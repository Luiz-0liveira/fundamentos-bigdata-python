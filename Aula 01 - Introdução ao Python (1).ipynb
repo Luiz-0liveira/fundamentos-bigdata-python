{
 "cells": [
  {
   "cell_type": "markdown",
   "id": "603799d0",
   "metadata": {},
   "source": [
    "# Primeiro curso de python no SENAI\n",
    "Estou empolgado"
   ]
  },
  {
   "cell_type": "code",
   "execution_count": 1,
   "id": "94e8d116",
   "metadata": {},
   "outputs": [
    {
     "name": "stdout",
     "output_type": "stream",
     "text": [
      "hello,world!\n"
     ]
    }
   ],
   "source": [
    "print('hello,world!')"
   ]
  },
  {
   "cell_type": "markdown",
   "id": "80266ac9",
   "metadata": {},
   "source": [
    "Declarando variáveis"
   ]
  },
  {
   "cell_type": "code",
   "execution_count": 4,
   "id": "0c3fa4ba",
   "metadata": {},
   "outputs": [],
   "source": [
    "a = 10\n",
    "b = 'Luiz'\n",
    "c = 0.5\n",
    "d = ['Abelha','Beterraba','Churrasco']"
   ]
  },
  {
   "cell_type": "code",
   "execution_count": 5,
   "id": "644f0792",
   "metadata": {},
   "outputs": [
    {
     "data": {
      "text/plain": [
       "int"
      ]
     },
     "execution_count": 5,
     "metadata": {},
     "output_type": "execute_result"
    }
   ],
   "source": [
    " type(a)"
   ]
  },
  {
   "cell_type": "code",
   "execution_count": 8,
   "id": "871ebc9c",
   "metadata": {},
   "outputs": [
    {
     "data": {
      "text/plain": [
       "float"
      ]
     },
     "execution_count": 8,
     "metadata": {},
     "output_type": "execute_result"
    }
   ],
   "source": [
    "type(c)"
   ]
  },
  {
   "cell_type": "code",
   "execution_count": 9,
   "id": "5d8cc717",
   "metadata": {},
   "outputs": [
    {
     "data": {
      "text/plain": [
       "list"
      ]
     },
     "execution_count": 9,
     "metadata": {},
     "output_type": "execute_result"
    }
   ],
   "source": [
    "type(d)"
   ]
  },
  {
   "cell_type": "markdown",
   "id": "bdf90d1c",
   "metadata": {},
   "source": [
    "Exercício 01\n",
    "\n",
    "Crie um programa para receber dois valores e em seguida, exiba o valor\n",
    "da soma."
   ]
  },
  {
   "cell_type": "code",
   "execution_count": 10,
   "id": "58385fa4",
   "metadata": {},
   "outputs": [],
   "source": [
    "num1 = 10\n",
    "num2 = 5\n",
    "\n",
    "soma = num1 + num2"
   ]
  },
  {
   "cell_type": "code",
   "execution_count": 11,
   "id": "84db7771",
   "metadata": {},
   "outputs": [
    {
     "name": "stdout",
     "output_type": "stream",
     "text": [
      "15\n"
     ]
    }
   ],
   "source": [
    "print(soma)"
   ]
  },
  {
   "cell_type": "markdown",
   "id": "a1fc1033",
   "metadata": {},
   "source": [
    "Exercício 02\n",
    "\n",
    "Crie um programa para receber dois valores e em seguida, exiba o valor\n",
    "da diferença entre eles."
   ]
  },
  {
   "cell_type": "code",
   "execution_count": 12,
   "id": "7ba427b7",
   "metadata": {},
   "outputs": [],
   "source": [
    "num1 = 10\n",
    "num2 = 5\n",
    "\n",
    "soma = num1 - num2"
   ]
  },
  {
   "cell_type": "code",
   "execution_count": 13,
   "id": "ed2001ff",
   "metadata": {},
   "outputs": [
    {
     "name": "stdout",
     "output_type": "stream",
     "text": [
      "5\n"
     ]
    }
   ],
   "source": [
    "print(soma)"
   ]
  },
  {
   "cell_type": "markdown",
   "id": "7c252d2b",
   "metadata": {},
   "source": [
    "## Exercício 03\n",
    "\n",
    "Crie um programa para receber dois valores e em seguida, exiba o\n",
    "produto entre eles."
   ]
  },
  {
   "cell_type": "code",
   "execution_count": 22,
   "id": "84bada48",
   "metadata": {},
   "outputs": [],
   "source": [
    "num1 = 10\n",
    "num2 = 5\n",
    "produto = num1 * num2"
   ]
  },
  {
   "cell_type": "code",
   "execution_count": 23,
   "id": "78ccefc4",
   "metadata": {},
   "outputs": [
    {
     "name": "stdout",
     "output_type": "stream",
     "text": [
      "50\n"
     ]
    }
   ],
   "source": [
    "print(produto)"
   ]
  },
  {
   "cell_type": "markdown",
   "id": "dda1bf5b",
   "metadata": {},
   "source": [
    "## Exercício 04 \n",
    "\n",
    "Crie um programa para receber dois valores e em seguida, exiba o\n",
    "quociente entre eles."
   ]
  },
  {
   "cell_type": "code",
   "execution_count": 25,
   "id": "e833a387",
   "metadata": {},
   "outputs": [],
   "source": [
    "num1 = 10\n",
    "num2 = 5\n",
    "quociente = num1 / num2"
   ]
  },
  {
   "cell_type": "code",
   "execution_count": 26,
   "id": "9b7e6152",
   "metadata": {},
   "outputs": [
    {
     "name": "stdout",
     "output_type": "stream",
     "text": [
      "2.0\n"
     ]
    }
   ],
   "source": [
    "print(quociente)"
   ]
  },
  {
   "cell_type": "markdown",
   "id": "e713b784",
   "metadata": {},
   "source": [
    "Exercício 05\n",
    "\n",
    "Crie um programa para receber dois valores e em seguida, exiba o resto\n",
    "da divisão entre eles."
   ]
  },
  {
   "cell_type": "code",
   "execution_count": 36,
   "id": "5c8cc78f",
   "metadata": {},
   "outputs": [],
   "source": [
    "num1 = 10\n",
    "num2 = 3\n",
    "resto = num1 % num2\n",
    "\n",
    "#simbolo % calcula resto da divisão"
   ]
  },
  {
   "cell_type": "code",
   "execution_count": 28,
   "id": "93184b12",
   "metadata": {},
   "outputs": [
    {
     "name": "stdout",
     "output_type": "stream",
     "text": [
      "1\n"
     ]
    }
   ],
   "source": [
    "print(resto)"
   ]
  },
  {
   "cell_type": "markdown",
   "id": "78e0aa76",
   "metadata": {},
   "source": [
    "Exercício 06 \n",
    "\n",
    "Crie um programa para receber um número e em seguida, exiba o\n",
    "quadrado dele."
   ]
  },
  {
   "cell_type": "code",
   "execution_count": 29,
   "id": "f3867323",
   "metadata": {},
   "outputs": [],
   "source": [
    "num = 5\n",
    "quadrado = num ** 2"
   ]
  },
  {
   "cell_type": "code",
   "execution_count": 30,
   "id": "91ce37ff",
   "metadata": {},
   "outputs": [
    {
     "name": "stdout",
     "output_type": "stream",
     "text": [
      "25\n"
     ]
    }
   ],
   "source": [
    "print(quadrado)"
   ]
  },
  {
   "cell_type": "markdown",
   "id": "00ffd93a",
   "metadata": {},
   "source": [
    "## Exercício 07 \n",
    "\n",
    "Elabora um programa para calcular a raiz quadrada de um número,\n",
    "utilizando a biblioteca math."
   ]
  },
  {
   "cell_type": "code",
   "execution_count": 31,
   "id": "c1e2f5e2",
   "metadata": {},
   "outputs": [],
   "source": [
    "import math\n",
    "num = 25\n",
    "raiz_quadrada = math.sqrt(num)"
   ]
  },
  {
   "cell_type": "code",
   "execution_count": 32,
   "id": "d09fa151",
   "metadata": {},
   "outputs": [
    {
     "name": "stdout",
     "output_type": "stream",
     "text": [
      "5.0\n"
     ]
    }
   ],
   "source": [
    "print(raiz_quadrada)"
   ]
  },
  {
   "cell_type": "markdown",
   "id": "b7135de8",
   "metadata": {},
   "source": [
    "## Exercício 08 \n",
    "\n",
    "Crie um programa que seja capaz de calcular o valor absoluto de um\n",
    "número."
   ]
  },
  {
   "cell_type": "code",
   "execution_count": 33,
   "id": "33774814",
   "metadata": {},
   "outputs": [],
   "source": [
    "num = -5\n",
    "absoluto = abs(num"
   ]
  },
  {
   "cell_type": "code",
   "execution_count": 34,
   "id": "e0ebb1c3",
   "metadata": {},
   "outputs": [
    {
     "name": "stdout",
     "output_type": "stream",
     "text": [
      "5\n"
     ]
    }
   ],
   "source": [
    "print(absoluto)"
   ]
  },
  {
   "cell_type": "markdown",
   "id": "f9dfff4e",
   "metadata": {},
   "source": [
    "## Exercício 10\n",
    "Faça um Programa que converta metros para centímetros."
   ]
  },
  {
   "cell_type": "code",
   "execution_count": 37,
   "id": "4071f34e",
   "metadata": {},
   "outputs": [
    {
     "name": "stdout",
     "output_type": "stream",
     "text": [
      "10000\n"
     ]
    }
   ],
   "source": [
    "# Receber o valor em metros \n",
    "\n",
    "metros = 100\n",
    "\n",
    "# pegar o valor em metros e multiplicar por 100\n",
    "\n",
    "centimetros = metros * 100\n",
    "\n",
    "# Exibir o resultado\n",
    "\n",
    "print(centimetros)"
   ]
  },
  {
   "cell_type": "markdown",
   "id": "4b9f367d",
   "metadata": {},
   "source": [
    "## Exercício 11\n",
    "\n",
    "Faça um Programa que peça o raio de um círculo, calcule e mostre sua\n",
    "área."
   ]
  },
  {
   "cell_type": "code",
   "execution_count": 38,
   "id": "a00d16f0",
   "metadata": {},
   "outputs": [
    {
     "name": "stdout",
     "output_type": "stream",
     "text": [
      "1256.0\n"
     ]
    }
   ],
   "source": [
    "# 1. Receber o valor do raio \n",
    "\n",
    "raio = 20\n",
    "\n",
    "# 2. Calcular a área do círculo\n",
    "\n",
    "area_circulo = 3.14 * raio ** 2\n",
    "\n",
    "# 3. Exibir a área do círculo\n",
    "\n",
    "print(area_circulo)"
   ]
  },
  {
   "cell_type": "markdown",
   "id": "6523b5a4",
   "metadata": {},
   "source": [
    "## Exercício 12\n",
    "\n",
    "Faça um Programa que calcule a área de um quadrado, em seguida\n",
    "mostre o dobro desta área para o usuário."
   ]
  },
  {
   "cell_type": "code",
   "execution_count": 40,
   "id": "14ac4e15",
   "metadata": {},
   "outputs": [
    {
     "name": "stdout",
     "output_type": "stream",
     "text": [
      "A área do quadrado é:  100\n",
      "O dobro desta área é:  200\n"
     ]
    }
   ],
   "source": [
    "# 1. receber o lado do quadrado\n",
    "lado = 10\n",
    "\n",
    "# 2.Calcular a área do quadrado\n",
    "area_quadrado =lado ** 2\n",
    "\n",
    "# 3.Calcular dobro da área \n",
    "area_dobro = area_quadrado * 2\n",
    "\n",
    "# 3. Exibir o resultado da área \n",
    "print('A área do quadrado é: ', area_quadrado)\n",
    "print('O dobro desta área é: ', area_dobro)"
   ]
  },
  {
   "cell_type": "markdown",
   "id": "5cc7f20f",
   "metadata": {},
   "source": [
    "## Exercício 13\n",
    "\n",
    "Faça um Programa que pergunte quanto você ganha por hora e o número\n",
    "de horas trabalhadas no mês. Calcule e mostre o total do seu salário no referido mês."
   ]
  },
  {
   "cell_type": "code",
   "execution_count": null,
   "id": "e9c651a7",
   "metadata": {},
   "outputs": [],
   "source": [
    "# 1. Solicitou um valor ao usuário\n",
    "\n",
    "valor_hora = input('informe o quanto você recebe por hora: ')\n",
    "valor_hora = int(valor_hora)\n",
    "\n",
    "type(valor_hora)"
   ]
  },
  {
   "cell_type": "code",
   "execution_count": null,
   "id": "cde5a2d9",
   "metadata": {},
   "outputs": [],
   "source": []
  },
  {
   "cell_type": "code",
   "execution_count": null,
   "id": "9cd216a3",
   "metadata": {},
   "outputs": [],
   "source": []
  }
 ],
 "metadata": {
  "kernelspec": {
   "display_name": "Python 3 (ipykernel)",
   "language": "python",
   "name": "python3"
  },
  "language_info": {
   "codemirror_mode": {
    "name": "ipython",
    "version": 3
   },
   "file_extension": ".py",
   "mimetype": "text/x-python",
   "name": "python",
   "nbconvert_exporter": "python",
   "pygments_lexer": "ipython3",
   "version": "3.10.9"
  }
 },
 "nbformat": 4,
 "nbformat_minor": 5
}
