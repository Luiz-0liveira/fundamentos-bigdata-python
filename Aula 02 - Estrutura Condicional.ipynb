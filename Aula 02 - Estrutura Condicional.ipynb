{
 "cells": [
  {
   "cell_type": "markdown",
   "id": "0ae66f70",
   "metadata": {},
   "source": [
    "## Exercício 01\n",
    "\n",
    "Crie uma variável chamada \"idade\" e atribua um valor inteiro a ela. Verifique se a idade é maior ou igual a 18 e imprima \"Maior de idade\" ou \"Menor de idade\" de acordo com a condição.\n",
    "\n"
   ]
  },
  {
   "cell_type": "code",
   "execution_count": null,
   "id": "803f4c5f",
   "metadata": {},
   "outputs": [],
   "source": [
    "idade = 25\n",
    "\n",
    "if idade >= 18:\n",
    "    print('Maior de idade')\n",
    "else:\n",
    "    print('Menor de idade')"
   ]
  },
  {
   "cell_type": "markdown",
   "id": "a7eacf0c",
   "metadata": {},
   "source": [
    "## Exercício 02 -\n",
    "\n",
    "Crie uma variável chamada \"número\" e atribua um valor inteiro a ela. Verifique se o número é positivo, negativo ou zero e imprima a mensagem correspondente."
   ]
  },
  {
   "cell_type": "code",
   "execution_count": null,
   "id": "600ccece",
   "metadata": {},
   "outputs": [],
   "source": [
    "num = 0\n",
    "\n",
    "# se o número for maior do que zero \n",
    "\n",
    "if num > 0:\n",
    "    print('positivo')\n",
    "else:\n",
    "    print('negativo')"
   ]
  },
  {
   "cell_type": "code",
   "execution_count": null,
   "id": "2b0310aa",
   "metadata": {},
   "outputs": [],
   "source": [
    "# verificar se o número é positivo, negativo ou nulo\n",
    "\n",
    "num = 0\n",
    "\n",
    "if num > 0:\n",
    "    print('Positivo')\n",
    "elif num<0:\n",
    "    print('negativo')\n",
    "else:\n",
    "    print('Nulo')"
   ]
  },
  {
   "cell_type": "markdown",
   "id": "605db179",
   "metadata": {},
   "source": [
    "## Exercício 03\n",
    "\n",
    "Crie duas variáveis, \"nota1\" e \"nota2\", e atribua valores numéricos a elas. Verifique se a média das notas é maior ou igual a 7 e imprima \"Aprovado\" ou \"Reprovado\" de acordo com a condição."
   ]
  },
  {
   "cell_type": "code",
   "execution_count": null,
   "id": "51cded8e",
   "metadata": {},
   "outputs": [],
   "source": [
    "nota_1 = input('Digite a nota 01:')\n",
    "nota_2 = input('Digite a nota 02:')\n",
    "\n",
    "# converter os dados para float (número decimal)\n",
    "nota_1 = float(nota_2)\n",
    "nota_2 = float(nota_2)\n",
    "\n",
    "media = (nota_1 + nota_2)/2\n",
    "\n",
    "if media >= 7:\n",
    "    print('Aprovado')\n",
    "else:\n",
    "    print('Reprovado')\n",
    "\n"
   ]
  },
  {
   "cell_type": "markdown",
   "id": "d9cb981a",
   "metadata": {},
   "source": [
    "## Exercício 04\n",
    "\n",
    "Crie uma variável chamada \"idade\" e atribua um valor inteiro a ela. Verifique se a idade está dentro do intervalo de 18 a 30 (inclusive) e imprima a mensagem \"Idade válida\" ou \"Idade inválida\" de acordo com a condição."
   ]
  },
  {
   "cell_type": "code",
   "execution_count": null,
   "id": "0f93ef56",
   "metadata": {},
   "outputs": [],
   "source": [
    "idade = input('Digite sua idade:')\n",
    "\n",
    "#Converter em valor inteiro\n",
    "idade = int(idade)\n",
    "\n",
    "if idade >= 18 and idade <=30:\n",
    "    print(\"Idade válida\")\n",
    "else:\n",
    "    print(\"Idade inválida\")\n"
   ]
  },
  {
   "cell_type": "markdown",
   "id": "7e562cad",
   "metadata": {},
   "source": [
    "## Exercício 05\n",
    "\n",
    "Crie uma variável chamada \"numero\" e atribua um valor inteiro a ela. Verifique se o número é par ou ímpar e imprima a mensagem correspondente"
   ]
  },
  {
   "cell_type": "code",
   "execution_count": null,
   "id": "fbe3fcdf",
   "metadata": {},
   "outputs": [],
   "source": [
    "numero = input('Digite um numero')\n",
    "numero = int(numero) # converter em número inteiro\n",
    "\n",
    "if numero % 2 == 0:\n",
    "    print('par')\n",
    "else:\n",
    "    print('ímpar')"
   ]
  },
  {
   "cell_type": "markdown",
   "id": "7193e0dd",
   "metadata": {},
   "source": [
    "## Exercício 06 \n",
    "\n",
    "Crie uma variável chamada \"horario\" e atribua um valor inteiro representando a hora do dia (em formato 24 horas). Verifique se o horário está dentro do período da manhã (das 6h às 12h), da tarde (das 12h às 18h) ou da noite (das 18h às 23h) e imprima a mensagem correspondente"
   ]
  },
  {
   "cell_type": "code",
   "execution_count": null,
   "id": "d65224e5",
   "metadata": {},
   "outputs": [],
   "source": [
    "horario = (input(\"Digite a hora do dia (em formato 24 horas): \"))\n",
    "\n",
    "if horario >= 6 and horario < 12:\n",
    "    print(\"Bom dia!\")\n",
    "elif horario >= 12 and horario < 18:\n",
    "    print(\"Boa tarde!\")\n",
    "elif horario >= 18 and  horario <= 23:\n",
    "    print(\"Boa noite!\")\n",
    "elif horario > 0 and horario < 6:\n",
    "    print(\"chegou cedo\")"
   ]
  },
  {
   "cell_type": "markdown",
   "id": "50160502",
   "metadata": {},
   "source": [
    "## Exercício 07\n",
    "\n",
    "Crie uma variável chamada \"peso\" e atribua um valor numérico a ela. Verifique se o peso está dentro do intervalo de 50 a 100 (inclusive) e imprima a mensagem \"Peso válido\" ou \"Peso inválido\" de acordo com a condição."
   ]
  },
  {
   "cell_type": "code",
   "execution_count": 4,
   "id": "64ecbf47",
   "metadata": {},
   "outputs": [
    {
     "name": "stdout",
     "output_type": "stream",
     "text": [
      "Digite o peso: 51\n",
      "Peso válido\n"
     ]
    }
   ],
   "source": [
    "peso = float(input(\"Digite o peso: \"))  # Solicita ao usuário que digite o peso como um número decimal\n",
    "\n",
    "if 50 <= peso <= 100:\n",
    "    print(\"Peso válido\")\n",
    "else:\n",
    "    print(\"Peso inválido\")"
   ]
  },
  {
   "cell_type": "markdown",
   "id": "dee3e44f",
   "metadata": {},
   "source": [
    "## Exercício 11\n",
    "\n",
    "Faça um Programa que peça dois números e imprima o maior deles."
   ]
  },
  {
   "cell_type": "code",
   "execution_count": 7,
   "id": "e28fa0e1",
   "metadata": {},
   "outputs": [
    {
     "name": "stdout",
     "output_type": "stream",
     "text": [
      "Digite o primeiro número: 5\n",
      "Digite o segundo número: 20\n",
      "O maior valor é20 ) e o menor é 5.\n"
     ]
    }
   ],
   "source": [
    "# Solicita ao usuário que insira dois números\n",
    "num1 = input ('Digite o primeiro número: ')\n",
    "num2 = input('Digite o segundo número: ')\n",
    "\n",
    "num1 = int(num1)\n",
    "num2 = int(num2)\n",
    "\n",
    "if num1 > num2:\n",
    "    print(f'O maior valor é {num1} e o menor é {num2}.')\n",
    "else:\n",
    "    print(f'O maior valor é{num2} ) e o menor é {num1}.')"
   ]
  },
  {
   "cell_type": "markdown",
   "id": "bbf26e72",
   "metadata": {},
   "source": [
    "## Exercício 16\n",
    "\n",
    "Faça um Programa que leia três números e mostre o maior deles."
   ]
  },
  {
   "cell_type": "code",
   "execution_count": 15,
   "id": "3866bcc2",
   "metadata": {},
   "outputs": [
    {
     "ename": "SyntaxError",
     "evalue": "expected ':' (700843500.py, line 11)",
     "output_type": "error",
     "traceback": [
      "\u001b[1;36m  Cell \u001b[1;32mIn[15], line 11\u001b[1;36m\u001b[0m\n\u001b[1;33m    else\u001b[0m\n\u001b[1;37m        ^\u001b[0m\n\u001b[1;31mSyntaxError\u001b[0m\u001b[1;31m:\u001b[0m expected ':'\n"
     ]
    }
   ],
   "source": [
    "num1 = input ('Digite o primeiro número: ')\n",
    "num2 = input('Digite o segundo número: ')\n",
    "num3 = input('Digite o terceiro número: ')\n",
    "\n",
    "num1 = int(num1)\n",
    "num2 = int(num2)\n",
    "num3 = int(num3)\n",
    "\n",
    "if num1 > num2 > num3:\n",
    "    print(f'O maior valor é {num1} e o menor é {num2}.')\n",
    "else\n",
    "    print(f'O maior valor é{num2} ) e o menor é {num1}.')\n",
    "else:\n",
    "    print(f'O maior valor é{num3} ) e o menor é {num1} e {num2}.')\n",
    "    \n"
   ]
  },
  {
   "cell_type": "code",
   "execution_count": null,
   "id": "774f2f17",
   "metadata": {},
   "outputs": [],
   "source": []
  }
 ],
 "metadata": {
  "kernelspec": {
   "display_name": "Python 3 (ipykernel)",
   "language": "python",
   "name": "python3"
  },
  "language_info": {
   "codemirror_mode": {
    "name": "ipython",
    "version": 3
   },
   "file_extension": ".py",
   "mimetype": "text/x-python",
   "name": "python",
   "nbconvert_exporter": "python",
   "pygments_lexer": "ipython3",
   "version": "3.10.9"
  }
 },
 "nbformat": 4,
 "nbformat_minor": 5
}
