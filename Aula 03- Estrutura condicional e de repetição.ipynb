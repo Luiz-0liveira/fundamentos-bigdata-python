{
 "cells": [
  {
   "cell_type": "markdown",
   "id": "a8bcc063",
   "metadata": {},
   "source": [
    "## Exercício 15\n",
    "\n",
    "Faça um programa para a leitura de duas notas parciais de um aluno. O\n",
    "programa deve calcular a média alcançada por aluno e apresentar:\n",
    "\n",
    "• A mensagem \"Aprovado\", se a média alcançada for maior ou igual a sete;\n",
    "\n",
    "• A mensagem \"Reprovado\", se a média for menor do que sete;\n",
    "\n",
    "• A mensagem \"Aprovado com Distinção\", se a média for igual a dez."
   ]
  },
  {
   "cell_type": "code",
   "execution_count": null,
   "id": "da4ccd8c",
   "metadata": {},
   "outputs": [],
   "source": [
    "# criar as variáveis nota 01 e nota 02\n",
    "\n",
    "nota_1 = float(input('Digite a nota 01: '))\n",
    "nota_2 = float(input('Digite a nota 02: '))\n",
    "\n",
    "# 2. criar a variável média e calculá-la\n",
    "\n",
    "media = (nota_1 + nota_2) / 2\n",
    "\n",
    "# 3. Construir a estrutura condicional IF para avaliar a média\n",
    "\n",
    "if media  >= 7 and media < 10:\n",
    "    print(f'APROVADO! Sua média final é:{media}.')\n",
    "elif media <7:\n",
    "    print(f'REPROVADO! Sua média final é {media}.')\n",
    "elif media == 10:\n",
    "    print(f'APROVADO COM DISTINÇÃO! Sua média final é: {media}.')\n",
    "\n"
   ]
  },
  {
   "cell_type": "markdown",
   "id": "be6d2c08",
   "metadata": {},
   "source": [
    "## Exercício 16\n",
    "\n",
    "Faça um Programa que leia três números e mostre o maior deles\n"
   ]
  },
  {
   "cell_type": "code",
   "execution_count": null,
   "id": "86efc9b5",
   "metadata": {},
   "outputs": [],
   "source": [
    "# Solicita ao usuário que insira os três números declarar as variaveis\n",
    "num_1 = float(input('Digite o primeiro valor:'))\n",
    "num_2 = float(input('Digite o segundo valor:'))\n",
    "num_3 = float(input('Digite o terceiro valor:'))\n",
    "\n",
    "# 2. Verificar o maior valor\n",
    "\n",
    "if num_1 > num_2 and num_1 > num_3:\n",
    "    \n",
    "    print(f'O maior valor é: {num_1}.')\n",
    "\n",
    "elif num_2 > num_1 and num_2 > num_3:\n",
    "    \n",
    "    print(f'O maior valor é: {num_2}.')\n",
    "\n",
    "elif num_3 > num_1 and num_3 > num_2:\n",
    "    \n",
    "    print(f'O maior valor é: {num_3}.')\n"
   ]
  },
  {
   "cell_type": "markdown",
   "id": "412457e4",
   "metadata": {},
   "source": [
    "## Exercício 17 \n",
    "\n",
    "Faça um Programa que leia três números e mostre o maior e o menor\n",
    "deles.\n"
   ]
  },
  {
   "cell_type": "code",
   "execution_count": null,
   "id": "e9554cbd",
   "metadata": {},
   "outputs": [],
   "source": [
    "# Solicita ao usuário que insira os três números\n",
    "num_1 = float(input(\"Digite o primeiro número: \"))\n",
    "num_2 = float(input(\"Digite o segundo número: \"))\n",
    "num_3 = float(input(\"Digite o terceiro número: \"))\n",
    "\n",
    "\n",
    "# verificar os valores\n",
    "# Inicializa as variáveis para armazenar o maior e o menor números\n",
    "\n",
    "maior_num = num_1\n",
    "menor_num = num_1\n",
    "\n",
    "# Verifica qual número é o maior e o menor usando condicionais\n",
    "if num_2 > maior_numero:\n",
    "    maior_num = num_2\n",
    "elif num_2 < menor_num:\n",
    "    menor_num = num_2\n",
    "\n",
    "if num_3 > maior_num:\n",
    "    maior_num = num_3\n",
    "elif num_3 < menor_num:\n",
    "    menor_num = num_3\n",
    "\n",
    "# Mostra o maior e o menor número\n",
    "print(f\"O maior número é: {maior_numero}\")\n",
    "print(f\"O menor número é: {menor_numero}\")\n"
   ]
  },
  {
   "cell_type": "markdown",
   "id": "2c9f262b",
   "metadata": {},
   "source": [
    "## Exercício 17\n",
    "Faça um Programa que leia três números e mostre o maior e o menor deles."
   ]
  },
  {
   "cell_type": "code",
   "execution_count": null,
   "id": "498fad0b",
   "metadata": {},
   "outputs": [],
   "source": [
    "# Solicita ao usuário que insira os três números\n",
    "num_1 = float(input(\"Digite o primeiro número: \"))\n",
    "num_2 = float(input(\"Digite o segundo número: \"))\n",
    "num_3 = float(input(\"Digite o terceiro número: \"))\n",
    "\n",
    "# Verificar qual é o maior valor\n",
    "\n",
    "if num_1 > num_2 and num_1 > num_3:\n",
    "    # num_1 é o maior\n",
    "    if num_2 < num_3:\n",
    "        print(f'O maior valor é {num_1} e o menor valor é {num_2}')\n",
    "    else:\n",
    "        print(f'O maior valor é {num_1} e o menor valor é {num_3}')\n",
    "elif num_2 > num_1 and num_2 > num_3:\n",
    "    \n",
    "    # num_2 é o maior\n",
    "    \n",
    "    if num_1 < num_3:\n",
    "        print(f'O maior valor é {num_2} e o menor valor é {num_1}')\n",
    "    else:\n",
    "        print(f'O maior valor é {num_2} e o menor valor é {num_3}')\n",
    "else:\n",
    "    # num_3 é o maior\n",
    "    if num_1 < num_2:\n",
    "        print(f'O maior valor é {num_3} e o menor valor é {num_1}')\n",
    "    else:\n",
    "        print(f'O maior valor é {num_3} e o menor valor é {num_2}')\n",
    "    \n",
    "\n",
    "           \n",
    "              "
   ]
  },
  {
   "cell_type": "markdown",
   "id": "1ebf1b88",
   "metadata": {},
   "source": [
    "## Exercício 18\n",
    "\n",
    " Faça um programa que pergunte o preço de três produtos e informe qual\n",
    "produto você deve comprar, sabendo que a decisão é sempre pelo mais barato.\n"
   ]
  },
  {
   "cell_type": "code",
   "execution_count": null,
   "id": "57d52a3c",
   "metadata": {},
   "outputs": [],
   "source": [
    "# Solicita ao usuário que insira os preços dos três produtos\n",
    "\n",
    "preco_produto1 = float(input(\"Digite o preço do primeiro produto: \"))\n",
    "preco_produto2 = float(input(\"Digite o preço do segundo produto: \"))\n",
    "preco_produto3 = float(input(\"Digite o preço do terceiro produto: \"))\n",
    "\n",
    "# Verifica qual produto é o mais barato usando condicionais\n",
    "\n",
    "if preco_produto1 < preco_produto2 and preco_produto1 < preco_produto3:\n",
    "    \n",
    "       print(f'Compre o produto Produto 01, cujo valor é R$ {produto_1}.')\n",
    "    \n",
    "elif preco_produto2 < preco_produto1 and preco_produto2 < preco_produto3:\n",
    "    \n",
    "    print(f'Compre o produto Produto 02, cujo valor é R$ {produto_2}.')\n",
    "    \n",
    "else:\n",
    "    print(f'Compre o produto Produto 03, cujo valor é R$ {produto_3}.')\n",
    "\n",
    "\n",
    "\n"
   ]
  },
  {
   "cell_type": "markdown",
   "id": "2927cfe1",
   "metadata": {},
   "source": [
    "## Exercício 19\n",
    "\n",
    "Faça um Programa que leia três números e mostre-os em ordem\n",
    "decrescente."
   ]
  },
  {
   "cell_type": "code",
   "execution_count": null,
   "id": "eeab636e",
   "metadata": {},
   "outputs": [],
   "source": [
    "# Solicita ao usuário que insira os três números\n",
    "num_1 = float(input(\"Digite o primeiro número: \"))\n",
    "num_2 = float(input(\"Digite o segundo número: \"))\n",
    "num_3 = float(input(\"Digite o terceiro número: \"))\n",
    "\n",
    "# Cria uma lista com os números\n",
    "\n",
    "numeros = [num_1, num_2, num_3]\n",
    "\n",
    "# Ordena a lista em ordem decrescente\n",
    "\n",
    "numeros.sort(reverse=True)\n",
    "\n",
    "# Mostra os números em ordem decrescente\n",
    "\n",
    "print(\"Números em ordem decrescente:\")\n",
    "for numero in numeros:\n",
    "    print(numero)"
   ]
  },
  {
   "cell_type": "markdown",
   "id": "0df791ba",
   "metadata": {},
   "source": [
    "## Exercício 19 \n",
    "\n",
    "Faça um Programa que leia três números e mostre-os em ordem decrescente."
   ]
  },
  {
   "cell_type": "code",
   "execution_count": null,
   "id": "cdef16fa",
   "metadata": {},
   "outputs": [],
   "source": [
    "# Declarar as variaveis\n",
    "\n",
    "num_1 = float(input(\"Digite o primeiro número: \"))\n",
    "num_2 = float(input(\"Digite o segundo número: \"))\n",
    "num_3 = float(input(\"Digite o terceiro número: \"))\n",
    "\n",
    "# Criar uma condição para ordenar os valores na ordem decrescente\n",
    "\n",
    "if num_1 > num_2 and num_1 > num_3:\n",
    "    \n",
    "    if num_2 > num_3:        \n",
    "        print(f'1º valor:{num_1}, 2º valor: {num_2}, 3º valor: {num_3}.')\n",
    "    else:\n",
    "        print(f'1º valor:{num_1}, 2º valor: {num_3}, 3º valor: {num_2}.')         \n",
    "\n",
    "elif num_2 > num_1 and num_2 > num_3:  \n",
    "    \n",
    "    if num_1 > num_3:   \n",
    "        print(f'1º valor:{num_2}, 2º valor: {num_1}, 3º valor: {num_3}.')\n",
    "    else:\n",
    "        print(f'1º valor:{num_2}, 2º valor: {num_3}, 3º valor: {num_1}.')     \n",
    "\n",
    "elif num_3 > num_1 and num_3 > num_2:    \n",
    "   \n",
    "    if num_2 > num_1:\n",
    "        print(f'1º valor:{num_3}, 2º valor: {num_2}, 3º valor: {num_1}.')\n",
    "    else:\n",
    "        print(f'1º valor:{num_3}, 2º valor: {num_1}, 3º valor: {num_2}.')\n",
    "        \n"
   ]
  },
  {
   "cell_type": "markdown",
   "id": "e6073d4c",
   "metadata": {},
   "source": [
    "## Exercício 20\n",
    "Faça um Programa que pergunte em que turno você estuda. Peça para\n",
    "digitar M-matutino ou V-Vespertino ou N- Noturno. Imprima a mensagem \"Bom Dia!\",\n",
    "\"Boa Tarde!\" ou \"Boa Noite!\" ou \"Valor Inválido!\", conforme o caso."
   ]
  },
  {
   "cell_type": "code",
   "execution_count": null,
   "id": "0c19bcc7",
   "metadata": {},
   "outputs": [],
   "source": [
    "# 1. Declarar as variaveis \n",
    "turno = input('Qual turno você estuda?')\n",
    "\n",
    "# 2. manter a estrutura IF para avaliar o input\n",
    "\n",
    "if turno== 'm':\n",
    "    print('Bom dia!')\n",
    "elif turno == 'v':\n",
    "    print('Boa tarde!')\n",
    "elif turno =='n':\n",
    "    print('Boa noite!')\n",
    "else:\n",
    "    print('VALOR INVÁLIDO!')\n"
   ]
  },
  {
   "cell_type": "markdown",
   "id": "f7dccc39",
   "metadata": {},
   "source": [
    "## Desafio \n",
    "\n",
    "Cria um código para classificar 5 números. O usuário escolher em classificar os valores na ordem crescente ou decrescente.\n",
    "Obs: utilize apenas estrutura condicional if."
   ]
  },
  {
   "cell_type": "code",
   "execution_count": 1,
   "id": "54f0f33c",
   "metadata": {},
   "outputs": [
    {
     "ename": "SyntaxError",
     "evalue": "invalid syntax (461436770.py, line 27)",
     "output_type": "error",
     "traceback": [
      "\u001b[1;36m  Cell \u001b[1;32mIn[1], line 27\u001b[1;36m\u001b[0m\n\u001b[1;33m    num_1, num_2 = num_2 num_1\u001b[0m\n\u001b[1;37m                         ^\u001b[0m\n\u001b[1;31mSyntaxError\u001b[0m\u001b[1;31m:\u001b[0m invalid syntax\n"
     ]
    }
   ],
   "source": [
    "# classificaros 5 números\n",
    "\n",
    "num_1 = float(input(\"Digite o primeiro número: \"))\n",
    "num_2 = float(input(\"Digite o segundo número: \"))\n",
    "num_3 = float(input(\"Digite o terceiro número: \"))\n",
    "num_4 = float(input(\"Digite o quarto número: \"))\n",
    "num_5 = float(input(\"Digite o quinto número: \"))\n",
    "\n",
    "# Solicita ao usuário que escolha a ordem de classificação\n",
    "\n",
    "ordem = input(\"Digite 'c' para ordem crescente ou 'd' para ordem decrescente: \")\n",
    "\n",
    "\n",
    "# Verifica a escolha  e classifica os números de acordo\n",
    "\n",
    "if ordem == 'c':\n",
    "    # crescente\n",
    "    if num_1 > num_2:\n",
    "        num_1, num_2 = num_2, num_1\n",
    "    if num_2 > num_3:\n",
    "        num_2, num3 = num_3, num_2\n",
    "    if num_3 > num_4:\n",
    "        num_3, num_4 = num_4, num_3\n",
    "    if num_4 > num_5:\n",
    "        num_4, num_5 = num_5, num_4\n",
    "    if num_1 > num_2:\n",
    "        num_1, num_2 = num_2 num_1\n",
    "    if num_2 > num_3:\n",
    "        num_2, num_3 = num_3, num_2\n",
    "    if num_3 > num_4:\n",
    "        num_3, num_4 = num_4, num_3\n",
    "\n",
    "    print(f\"Os números em ordem crescente são: {num_1}, {num_2}, {num_3}, {num_4}, {num_5}\")\n",
    "\n",
    "elif ordem == 'd':\n",
    "    # decrescente\n",
    "    if num_1 < num_2:\n",
    "        num_1, num_2 = num_2, num_1\n",
    "    if num_2 < num_3:\n",
    "        num_2, num_3 = num_3, num_2\n",
    "    if num_3 < num_4:\n",
    "        num_3, num_4 = num_4, num_3\n",
    "    if num_4 < num_5:\n",
    "        num_4, num_5 = num_5, num_4\n",
    "    if num_1 < num_2:\n",
    "        num_1, num_2 = num_2, num_1\n",
    "    if num_2 < num_3:\n",
    "        num_2, num_3= num_3, num_2\n",
    "    if num_3 < num_4:\n",
    "        num_3, num_4 = num_4, num_3\n",
    "\n",
    "    print(f\"Os números em ordem decrescente são: {num_1}, {num_2}, {num_3}, {num_4}, {num_5}\")\n",
    "\n",
    "else:\n",
    "    print(\"Escolha inválida. Digite 'c' para ordem crescente ou 'd' para ordem decrescente.\")\n"
   ]
  },
  {
   "cell_type": "code",
   "execution_count": null,
   "id": "e2a84917",
   "metadata": {},
   "outputs": [],
   "source": []
  }
 ],
 "metadata": {
  "kernelspec": {
   "display_name": "Python 3 (ipykernel)",
   "language": "python",
   "name": "python3"
  },
  "language_info": {
   "codemirror_mode": {
    "name": "ipython",
    "version": 3
   },
   "file_extension": ".py",
   "mimetype": "text/x-python",
   "name": "python",
   "nbconvert_exporter": "python",
   "pygments_lexer": "ipython3",
   "version": "3.10.9"
  }
 },
 "nbformat": 4,
 "nbformat_minor": 5
}
