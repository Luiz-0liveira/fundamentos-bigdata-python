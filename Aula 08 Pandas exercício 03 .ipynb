{
 "cells": [
  {
   "cell_type": "markdown",
   "metadata": {},
   "source": [
    "#### Exercício 03 – Manipulando dados com Pandas\n",
    "\n",
    "\n",
    "a) Crie um programa em pandas para ler o arquivo em Excel vendas.xlsx e\n",
    "\n",
    "b) coloque em um dataframe.\n",
    "\n",
    "c) Visualize o cabeçalho dos dados;"
   ]
  },
  {
   "cell_type": "code",
   "execution_count": 5,
   "metadata": {},
   "outputs": [
    {
     "data": {
      "text/html": [
       "<div>\n",
       "<style scoped>\n",
       "    .dataframe tbody tr th:only-of-type {\n",
       "        vertical-align: middle;\n",
       "    }\n",
       "\n",
       "    .dataframe tbody tr th {\n",
       "        vertical-align: top;\n",
       "    }\n",
       "\n",
       "    .dataframe thead th {\n",
       "        text-align: right;\n",
       "    }\n",
       "</style>\n",
       "<table border=\"1\" class=\"dataframe\">\n",
       "  <thead>\n",
       "    <tr style=\"text-align: right;\">\n",
       "      <th></th>\n",
       "      <th>Coluna 1</th>\n",
       "      <th>Coluna 2</th>\n",
       "      <th>Coluna 3</th>\n",
       "      <th>Coluna 4</th>\n",
       "      <th>Coluna 5</th>\n",
       "      <th>Coluna 6</th>\n",
       "    </tr>\n",
       "  </thead>\n",
       "  <tbody>\n",
       "    <tr>\n",
       "      <th>0</th>\n",
       "      <td>2014-01-01</td>\n",
       "      <td>Bernardo de Sousa</td>\n",
       "      <td>Supervisor de Vendas Pl</td>\n",
       "      <td>ACME</td>\n",
       "      <td>AL</td>\n",
       "      <td>3276.20</td>\n",
       "    </tr>\n",
       "    <tr>\n",
       "      <th>1</th>\n",
       "      <td>2014-01-01</td>\n",
       "      <td>Bernardo de Sousa</td>\n",
       "      <td>Supervisor de Vendas Pl</td>\n",
       "      <td>ACME</td>\n",
       "      <td>AP</td>\n",
       "      <td>3005.86</td>\n",
       "    </tr>\n",
       "    <tr>\n",
       "      <th>2</th>\n",
       "      <td>2014-01-01</td>\n",
       "      <td>Bernardo de Sousa</td>\n",
       "      <td>Supervisor de Vendas Pl</td>\n",
       "      <td>ACME</td>\n",
       "      <td>MA</td>\n",
       "      <td>8568.54</td>\n",
       "    </tr>\n",
       "    <tr>\n",
       "      <th>3</th>\n",
       "      <td>2014-01-01</td>\n",
       "      <td>Bernardo de Sousa</td>\n",
       "      <td>Supervisor de Vendas Pl</td>\n",
       "      <td>ACME</td>\n",
       "      <td>MG</td>\n",
       "      <td>1344.27</td>\n",
       "    </tr>\n",
       "    <tr>\n",
       "      <th>4</th>\n",
       "      <td>2014-01-01</td>\n",
       "      <td>Bernardo de Sousa</td>\n",
       "      <td>Supervisor de Vendas Pl</td>\n",
       "      <td>ACME</td>\n",
       "      <td>MS</td>\n",
       "      <td>7585.04</td>\n",
       "    </tr>\n",
       "  </tbody>\n",
       "</table>\n",
       "</div>"
      ],
      "text/plain": [
       "    Coluna 1           Coluna 2                 Coluna 3 Coluna 4 Coluna 5  \\\n",
       "0 2014-01-01  Bernardo de Sousa  Supervisor de Vendas Pl     ACME       AL   \n",
       "1 2014-01-01  Bernardo de Sousa  Supervisor de Vendas Pl     ACME       AP   \n",
       "2 2014-01-01  Bernardo de Sousa  Supervisor de Vendas Pl     ACME       MA   \n",
       "3 2014-01-01  Bernardo de Sousa  Supervisor de Vendas Pl     ACME       MG   \n",
       "4 2014-01-01  Bernardo de Sousa  Supervisor de Vendas Pl     ACME       MS   \n",
       "\n",
       "   Coluna 6  \n",
       "0   3276.20  \n",
       "1   3005.86  \n",
       "2   8568.54  \n",
       "3   1344.27  \n",
       "4   7585.04  "
      ]
     },
     "execution_count": 5,
     "metadata": {},
     "output_type": "execute_result"
    }
   ],
   "source": [
    " # Inportar a biblioteca\n",
    "import pandas as pd\n",
    "\n",
    "# Mapear o diretório e o arquivo\n",
    "\n",
    "caminho = 'C:\\\\Users\\\\FIC\\\\Documents\\\\Luiz Antonio Python\\\\003 - Arquivos\\\\'\n",
    "arquivo = 'Vendas.xlsx'\n",
    "\n",
    "# Atribuir os dados a um Dataframe\n",
    "\n",
    "df = pd.read_excel(caminho + arquivo, sheet_name='Planilha1')\n",
    "\n",
    "# Visualizar os cabeçalhos\n",
    "\n",
    "df.head()"
   ]
  },
  {
   "cell_type": "markdown",
   "metadata": {},
   "source": [
    "d) Visualize as últimas linhas;"
   ]
  },
  {
   "cell_type": "code",
   "execution_count": 6,
   "metadata": {},
   "outputs": [
    {
     "data": {
      "text/html": [
       "<div>\n",
       "<style scoped>\n",
       "    .dataframe tbody tr th:only-of-type {\n",
       "        vertical-align: middle;\n",
       "    }\n",
       "\n",
       "    .dataframe tbody tr th {\n",
       "        vertical-align: top;\n",
       "    }\n",
       "\n",
       "    .dataframe thead th {\n",
       "        text-align: right;\n",
       "    }\n",
       "</style>\n",
       "<table border=\"1\" class=\"dataframe\">\n",
       "  <thead>\n",
       "    <tr style=\"text-align: right;\">\n",
       "      <th></th>\n",
       "      <th>Coluna 1</th>\n",
       "      <th>Coluna 2</th>\n",
       "      <th>Coluna 3</th>\n",
       "      <th>Coluna 4</th>\n",
       "      <th>Coluna 5</th>\n",
       "      <th>Coluna 6</th>\n",
       "    </tr>\n",
       "  </thead>\n",
       "  <tbody>\n",
       "    <tr>\n",
       "      <th>130461</th>\n",
       "      <td>2016-12-31</td>\n",
       "      <td>Liz Azevedo Santos</td>\n",
       "      <td>Vendedor Pl.</td>\n",
       "      <td>Planet Express</td>\n",
       "      <td>PI</td>\n",
       "      <td>1829.39</td>\n",
       "    </tr>\n",
       "    <tr>\n",
       "      <th>130462</th>\n",
       "      <td>2016-12-31</td>\n",
       "      <td>Liz Azevedo Santos</td>\n",
       "      <td>Vendedor Pl.</td>\n",
       "      <td>Planet Express</td>\n",
       "      <td>PR</td>\n",
       "      <td>2378.48</td>\n",
       "    </tr>\n",
       "    <tr>\n",
       "      <th>130463</th>\n",
       "      <td>2016-12-31</td>\n",
       "      <td>Liz Azevedo Santos</td>\n",
       "      <td>Vendedor Pl.</td>\n",
       "      <td>Planet Express</td>\n",
       "      <td>RO</td>\n",
       "      <td>4488.47</td>\n",
       "    </tr>\n",
       "    <tr>\n",
       "      <th>130464</th>\n",
       "      <td>2016-12-31</td>\n",
       "      <td>Liz Azevedo Santos</td>\n",
       "      <td>Vendedor Pl.</td>\n",
       "      <td>Planet Express</td>\n",
       "      <td>RR</td>\n",
       "      <td>1543.66</td>\n",
       "    </tr>\n",
       "    <tr>\n",
       "      <th>130465</th>\n",
       "      <td>2016-12-31</td>\n",
       "      <td>Liz Azevedo Santos</td>\n",
       "      <td>Vendedor Pl.</td>\n",
       "      <td>Planet Express</td>\n",
       "      <td>SC</td>\n",
       "      <td>9820.71</td>\n",
       "    </tr>\n",
       "  </tbody>\n",
       "</table>\n",
       "</div>"
      ],
      "text/plain": [
       "         Coluna 1            Coluna 2      Coluna 3        Coluna 4 Coluna 5  \\\n",
       "130461 2016-12-31  Liz Azevedo Santos  Vendedor Pl.  Planet Express       PI   \n",
       "130462 2016-12-31  Liz Azevedo Santos  Vendedor Pl.  Planet Express       PR   \n",
       "130463 2016-12-31  Liz Azevedo Santos  Vendedor Pl.  Planet Express       RO   \n",
       "130464 2016-12-31  Liz Azevedo Santos  Vendedor Pl.  Planet Express       RR   \n",
       "130465 2016-12-31  Liz Azevedo Santos  Vendedor Pl.  Planet Express       SC   \n",
       "\n",
       "        Coluna 6  \n",
       "130461   1829.39  \n",
       "130462   2378.48  \n",
       "130463   4488.47  \n",
       "130464   1543.66  \n",
       "130465   9820.71  "
      ]
     },
     "execution_count": 6,
     "metadata": {},
     "output_type": "execute_result"
    }
   ],
   "source": [
    "df.tail()"
   ]
  },
  {
   "cell_type": "markdown",
   "metadata": {},
   "source": [
    "e) Escreva um programa para renomear o cabeçalho da tabela com os seguintes nomes:"
   ]
  },
  {
   "cell_type": "code",
   "execution_count": 7,
   "metadata": {},
   "outputs": [
    {
     "data": {
      "text/html": [
       "<div>\n",
       "<style scoped>\n",
       "    .dataframe tbody tr th:only-of-type {\n",
       "        vertical-align: middle;\n",
       "    }\n",
       "\n",
       "    .dataframe tbody tr th {\n",
       "        vertical-align: top;\n",
       "    }\n",
       "\n",
       "    .dataframe thead th {\n",
       "        text-align: right;\n",
       "    }\n",
       "</style>\n",
       "<table border=\"1\" class=\"dataframe\">\n",
       "  <thead>\n",
       "    <tr style=\"text-align: right;\">\n",
       "      <th></th>\n",
       "      <th>Data</th>\n",
       "      <th>Vendedor</th>\n",
       "      <th>Cargo</th>\n",
       "      <th>cliente</th>\n",
       "      <th>Uf</th>\n",
       "      <th>Vendas</th>\n",
       "    </tr>\n",
       "  </thead>\n",
       "  <tbody>\n",
       "    <tr>\n",
       "      <th>0</th>\n",
       "      <td>2014-01-01</td>\n",
       "      <td>Bernardo de Sousa</td>\n",
       "      <td>Supervisor de Vendas Pl</td>\n",
       "      <td>ACME</td>\n",
       "      <td>AL</td>\n",
       "      <td>3276.20</td>\n",
       "    </tr>\n",
       "    <tr>\n",
       "      <th>1</th>\n",
       "      <td>2014-01-01</td>\n",
       "      <td>Bernardo de Sousa</td>\n",
       "      <td>Supervisor de Vendas Pl</td>\n",
       "      <td>ACME</td>\n",
       "      <td>AP</td>\n",
       "      <td>3005.86</td>\n",
       "    </tr>\n",
       "    <tr>\n",
       "      <th>2</th>\n",
       "      <td>2014-01-01</td>\n",
       "      <td>Bernardo de Sousa</td>\n",
       "      <td>Supervisor de Vendas Pl</td>\n",
       "      <td>ACME</td>\n",
       "      <td>MA</td>\n",
       "      <td>8568.54</td>\n",
       "    </tr>\n",
       "    <tr>\n",
       "      <th>3</th>\n",
       "      <td>2014-01-01</td>\n",
       "      <td>Bernardo de Sousa</td>\n",
       "      <td>Supervisor de Vendas Pl</td>\n",
       "      <td>ACME</td>\n",
       "      <td>MG</td>\n",
       "      <td>1344.27</td>\n",
       "    </tr>\n",
       "    <tr>\n",
       "      <th>4</th>\n",
       "      <td>2014-01-01</td>\n",
       "      <td>Bernardo de Sousa</td>\n",
       "      <td>Supervisor de Vendas Pl</td>\n",
       "      <td>ACME</td>\n",
       "      <td>MS</td>\n",
       "      <td>7585.04</td>\n",
       "    </tr>\n",
       "  </tbody>\n",
       "</table>\n",
       "</div>"
      ],
      "text/plain": [
       "        Data           Vendedor                    Cargo cliente  Uf   Vendas\n",
       "0 2014-01-01  Bernardo de Sousa  Supervisor de Vendas Pl    ACME  AL  3276.20\n",
       "1 2014-01-01  Bernardo de Sousa  Supervisor de Vendas Pl    ACME  AP  3005.86\n",
       "2 2014-01-01  Bernardo de Sousa  Supervisor de Vendas Pl    ACME  MA  8568.54\n",
       "3 2014-01-01  Bernardo de Sousa  Supervisor de Vendas Pl    ACME  MG  1344.27\n",
       "4 2014-01-01  Bernardo de Sousa  Supervisor de Vendas Pl    ACME  MS  7585.04"
      ]
     },
     "execution_count": 7,
     "metadata": {},
     "output_type": "execute_result"
    }
   ],
   "source": [
    "df.columns = ['Data','Vendedor','Cargo','cliente',\n",
    "           'Uf','Vendas'\n",
    "]\n",
    "df.head()"
   ]
  },
  {
   "cell_type": "markdown",
   "metadata": {},
   "source": [
    "g) Quais são os tipos de dados que temos no dataframe?"
   ]
  },
  {
   "cell_type": "code",
   "execution_count": 8,
   "metadata": {},
   "outputs": [
    {
     "name": "stdout",
     "output_type": "stream",
     "text": [
      "<class 'pandas.core.frame.DataFrame'>\n",
      "RangeIndex: 130466 entries, 0 to 130465\n",
      "Data columns (total 6 columns):\n",
      " #   Column    Non-Null Count   Dtype         \n",
      "---  ------    --------------   -----         \n",
      " 0   Data      130466 non-null  datetime64[ns]\n",
      " 1   Vendedor  130466 non-null  object        \n",
      " 2   Cargo     130466 non-null  object        \n",
      " 3   cliente   130466 non-null  object        \n",
      " 4   Uf        130466 non-null  object        \n",
      " 5   Vendas    130466 non-null  float64       \n",
      "dtypes: datetime64[ns](1), float64(1), object(4)\n",
      "memory usage: 6.0+ MB\n"
     ]
    }
   ],
   "source": [
    "df.info()"
   ]
  },
  {
   "cell_type": "markdown",
   "metadata": {},
   "source": [
    "h) Há valores faltantes ou nulos?"
   ]
  },
  {
   "cell_type": "code",
   "execution_count": 12,
   "metadata": {},
   "outputs": [
    {
     "data": {
      "text/html": [
       "<div>\n",
       "<style scoped>\n",
       "    .dataframe tbody tr th:only-of-type {\n",
       "        vertical-align: middle;\n",
       "    }\n",
       "\n",
       "    .dataframe tbody tr th {\n",
       "        vertical-align: top;\n",
       "    }\n",
       "\n",
       "    .dataframe thead th {\n",
       "        text-align: right;\n",
       "    }\n",
       "</style>\n",
       "<table border=\"1\" class=\"dataframe\">\n",
       "  <thead>\n",
       "    <tr style=\"text-align: right;\">\n",
       "      <th></th>\n",
       "      <th>Data</th>\n",
       "      <th>Vendedor</th>\n",
       "      <th>Cargo</th>\n",
       "      <th>cliente</th>\n",
       "      <th>Uf</th>\n",
       "      <th>Vendas</th>\n",
       "    </tr>\n",
       "  </thead>\n",
       "  <tbody>\n",
       "    <tr>\n",
       "      <th>0</th>\n",
       "      <td>False</td>\n",
       "      <td>False</td>\n",
       "      <td>False</td>\n",
       "      <td>False</td>\n",
       "      <td>False</td>\n",
       "      <td>False</td>\n",
       "    </tr>\n",
       "    <tr>\n",
       "      <th>1</th>\n",
       "      <td>False</td>\n",
       "      <td>False</td>\n",
       "      <td>False</td>\n",
       "      <td>False</td>\n",
       "      <td>False</td>\n",
       "      <td>False</td>\n",
       "    </tr>\n",
       "    <tr>\n",
       "      <th>2</th>\n",
       "      <td>False</td>\n",
       "      <td>False</td>\n",
       "      <td>False</td>\n",
       "      <td>False</td>\n",
       "      <td>False</td>\n",
       "      <td>False</td>\n",
       "    </tr>\n",
       "    <tr>\n",
       "      <th>3</th>\n",
       "      <td>False</td>\n",
       "      <td>False</td>\n",
       "      <td>False</td>\n",
       "      <td>False</td>\n",
       "      <td>False</td>\n",
       "      <td>False</td>\n",
       "    </tr>\n",
       "    <tr>\n",
       "      <th>4</th>\n",
       "      <td>False</td>\n",
       "      <td>False</td>\n",
       "      <td>False</td>\n",
       "      <td>False</td>\n",
       "      <td>False</td>\n",
       "      <td>False</td>\n",
       "    </tr>\n",
       "    <tr>\n",
       "      <th>...</th>\n",
       "      <td>...</td>\n",
       "      <td>...</td>\n",
       "      <td>...</td>\n",
       "      <td>...</td>\n",
       "      <td>...</td>\n",
       "      <td>...</td>\n",
       "    </tr>\n",
       "    <tr>\n",
       "      <th>130461</th>\n",
       "      <td>False</td>\n",
       "      <td>False</td>\n",
       "      <td>False</td>\n",
       "      <td>False</td>\n",
       "      <td>False</td>\n",
       "      <td>False</td>\n",
       "    </tr>\n",
       "    <tr>\n",
       "      <th>130462</th>\n",
       "      <td>False</td>\n",
       "      <td>False</td>\n",
       "      <td>False</td>\n",
       "      <td>False</td>\n",
       "      <td>False</td>\n",
       "      <td>False</td>\n",
       "    </tr>\n",
       "    <tr>\n",
       "      <th>130463</th>\n",
       "      <td>False</td>\n",
       "      <td>False</td>\n",
       "      <td>False</td>\n",
       "      <td>False</td>\n",
       "      <td>False</td>\n",
       "      <td>False</td>\n",
       "    </tr>\n",
       "    <tr>\n",
       "      <th>130464</th>\n",
       "      <td>False</td>\n",
       "      <td>False</td>\n",
       "      <td>False</td>\n",
       "      <td>False</td>\n",
       "      <td>False</td>\n",
       "      <td>False</td>\n",
       "    </tr>\n",
       "    <tr>\n",
       "      <th>130465</th>\n",
       "      <td>False</td>\n",
       "      <td>False</td>\n",
       "      <td>False</td>\n",
       "      <td>False</td>\n",
       "      <td>False</td>\n",
       "      <td>False</td>\n",
       "    </tr>\n",
       "  </tbody>\n",
       "</table>\n",
       "<p>130466 rows × 6 columns</p>\n",
       "</div>"
      ],
      "text/plain": [
       "         Data  Vendedor  Cargo  cliente     Uf  Vendas\n",
       "0       False     False  False    False  False   False\n",
       "1       False     False  False    False  False   False\n",
       "2       False     False  False    False  False   False\n",
       "3       False     False  False    False  False   False\n",
       "4       False     False  False    False  False   False\n",
       "...       ...       ...    ...      ...    ...     ...\n",
       "130461  False     False  False    False  False   False\n",
       "130462  False     False  False    False  False   False\n",
       "130463  False     False  False    False  False   False\n",
       "130464  False     False  False    False  False   False\n",
       "130465  False     False  False    False  False   False\n",
       "\n",
       "[130466 rows x 6 columns]"
      ]
     },
     "execution_count": 12,
     "metadata": {},
     "output_type": "execute_result"
    }
   ],
   "source": [
    "df.isnul()"
   ]
  },
  {
   "cell_type": "code",
   "execution_count": 17,
   "metadata": {},
   "outputs": [
    {
     "data": {
      "text/plain": [
       "0         False\n",
       "1         False\n",
       "2         False\n",
       "3         False\n",
       "4         False\n",
       "          ...  \n",
       "130461    False\n",
       "130462    False\n",
       "130463    False\n",
       "130464    False\n",
       "130465    False\n",
       "Name: Vendas, Length: 130466, dtype: bool"
      ]
     },
     "execution_count": 17,
     "metadata": {},
     "output_type": "execute_result"
    }
   ],
   "source": [
    "# Identificar quais registros são nulos\n",
    "\n",
    "df['Vendas'].isnull()\n"
   ]
  },
  {
   "cell_type": "code",
   "execution_count": 18,
   "metadata": {},
   "outputs": [
    {
     "data": {
      "text/plain": [
       "0"
      ]
     },
     "execution_count": 18,
     "metadata": {},
     "output_type": "execute_result"
    }
   ],
   "source": [
    "# Quantificar os elementos nulos\n",
    "\n",
    "df['Vendas'].isnull().sum()"
   ]
  },
  {
   "cell_type": "markdown",
   "metadata": {},
   "source": [
    "i) Calcule a soma, média, máximo, mínimo e contagem da coluna Preço."
   ]
  },
  {
   "cell_type": "code",
   "execution_count": 20,
   "metadata": {},
   "outputs": [
    {
     "name": "stdout",
     "output_type": "stream",
     "text": [
      "O valor total da coluna vendas é: 718501609.25\n",
      "A média da coluna Vendas é: 5507.194282418408\n",
      "O maior valor da coluna Vendas é: 10000.0\n",
      "O menor valor da coluna Vendas é: 130466\n"
     ]
    }
   ],
   "source": [
    "print('O valor total da coluna vendas é:',df['Vendas'].sum())\n",
    "\n",
    "print('A média da coluna Vendas é:',df['Vendas'].mean())\n",
    "\n",
    "print('O maior valor da coluna Vendas é:', df['Vendas'].max())\n",
    "\n",
    "print('O menor valor da coluna Vendas é:', df['Vendas'].count())"
   ]
  },
  {
   "cell_type": "markdown",
   "metadata": {},
   "source": [
    "j) Crie um programa para criar um dataframe para mostrar as vendas por cargo, e\n",
    "salvar um arquivo em csv para com o nome de cada cargo:"
   ]
  },
  {
   "cell_type": "code",
   "execution_count": 21,
   "metadata": {},
   "outputs": [
    {
     "data": {
      "text/plain": [
       "0         3276.20\n",
       "1         3005.86\n",
       "2         8568.54\n",
       "3         1344.27\n",
       "4         7585.04\n",
       "           ...   \n",
       "130461    1829.39\n",
       "130462    2378.48\n",
       "130463    4488.47\n",
       "130464    1543.66\n",
       "130465    9820.71\n",
       "Name: Vendas, Length: 130466, dtype: float64"
      ]
     },
     "execution_count": 21,
     "metadata": {},
     "output_type": "execute_result"
    }
   ],
   "source": [
    "df['Vendas']"
   ]
  },
  {
   "cell_type": "markdown",
   "metadata": {},
   "source": [
    "Supervisor de Vendas Pl"
   ]
  },
  {
   "cell_type": "code",
   "execution_count": 23,
   "metadata": {},
   "outputs": [
    {
     "data": {
      "text/html": [
       "<div>\n",
       "<style scoped>\n",
       "    .dataframe tbody tr th:only-of-type {\n",
       "        vertical-align: middle;\n",
       "    }\n",
       "\n",
       "    .dataframe tbody tr th {\n",
       "        vertical-align: top;\n",
       "    }\n",
       "\n",
       "    .dataframe thead th {\n",
       "        text-align: right;\n",
       "    }\n",
       "</style>\n",
       "<table border=\"1\" class=\"dataframe\">\n",
       "  <thead>\n",
       "    <tr style=\"text-align: right;\">\n",
       "      <th></th>\n",
       "      <th>Data</th>\n",
       "      <th>Vendedor</th>\n",
       "      <th>Cargo</th>\n",
       "      <th>cliente</th>\n",
       "      <th>Uf</th>\n",
       "      <th>Vendas</th>\n",
       "    </tr>\n",
       "  </thead>\n",
       "  <tbody>\n",
       "    <tr>\n",
       "      <th>0</th>\n",
       "      <td>2014-01-01</td>\n",
       "      <td>Bernardo de Sousa</td>\n",
       "      <td>Supervisor de Vendas Pl</td>\n",
       "      <td>ACME</td>\n",
       "      <td>AL</td>\n",
       "      <td>3276.20</td>\n",
       "    </tr>\n",
       "    <tr>\n",
       "      <th>1</th>\n",
       "      <td>2014-01-01</td>\n",
       "      <td>Bernardo de Sousa</td>\n",
       "      <td>Supervisor de Vendas Pl</td>\n",
       "      <td>ACME</td>\n",
       "      <td>AP</td>\n",
       "      <td>3005.86</td>\n",
       "    </tr>\n",
       "    <tr>\n",
       "      <th>2</th>\n",
       "      <td>2014-01-01</td>\n",
       "      <td>Bernardo de Sousa</td>\n",
       "      <td>Supervisor de Vendas Pl</td>\n",
       "      <td>ACME</td>\n",
       "      <td>MA</td>\n",
       "      <td>8568.54</td>\n",
       "    </tr>\n",
       "    <tr>\n",
       "      <th>3</th>\n",
       "      <td>2014-01-01</td>\n",
       "      <td>Bernardo de Sousa</td>\n",
       "      <td>Supervisor de Vendas Pl</td>\n",
       "      <td>ACME</td>\n",
       "      <td>MG</td>\n",
       "      <td>1344.27</td>\n",
       "    </tr>\n",
       "    <tr>\n",
       "      <th>4</th>\n",
       "      <td>2014-01-01</td>\n",
       "      <td>Bernardo de Sousa</td>\n",
       "      <td>Supervisor de Vendas Pl</td>\n",
       "      <td>ACME</td>\n",
       "      <td>MS</td>\n",
       "      <td>7585.04</td>\n",
       "    </tr>\n",
       "    <tr>\n",
       "      <th>...</th>\n",
       "      <td>...</td>\n",
       "      <td>...</td>\n",
       "      <td>...</td>\n",
       "      <td>...</td>\n",
       "      <td>...</td>\n",
       "      <td>...</td>\n",
       "    </tr>\n",
       "    <tr>\n",
       "      <th>130378</th>\n",
       "      <td>2016-12-31</td>\n",
       "      <td>Bernardo de Sousa</td>\n",
       "      <td>Supervisor de Vendas Pl</td>\n",
       "      <td>Umbrella Corporation</td>\n",
       "      <td>PA</td>\n",
       "      <td>2740.70</td>\n",
       "    </tr>\n",
       "    <tr>\n",
       "      <th>130379</th>\n",
       "      <td>2016-12-31</td>\n",
       "      <td>Bernardo de Sousa</td>\n",
       "      <td>Supervisor de Vendas Pl</td>\n",
       "      <td>Umbrella Corporation</td>\n",
       "      <td>PE</td>\n",
       "      <td>3274.59</td>\n",
       "    </tr>\n",
       "    <tr>\n",
       "      <th>130380</th>\n",
       "      <td>2016-12-31</td>\n",
       "      <td>Bernardo de Sousa</td>\n",
       "      <td>Supervisor de Vendas Pl</td>\n",
       "      <td>Umbrella Corporation</td>\n",
       "      <td>RN</td>\n",
       "      <td>3879.86</td>\n",
       "    </tr>\n",
       "    <tr>\n",
       "      <th>130381</th>\n",
       "      <td>2016-12-31</td>\n",
       "      <td>Bernardo de Sousa</td>\n",
       "      <td>Supervisor de Vendas Pl</td>\n",
       "      <td>Umbrella Corporation</td>\n",
       "      <td>RO</td>\n",
       "      <td>2930.09</td>\n",
       "    </tr>\n",
       "    <tr>\n",
       "      <th>130382</th>\n",
       "      <td>2016-12-31</td>\n",
       "      <td>Bernardo de Sousa</td>\n",
       "      <td>Supervisor de Vendas Pl</td>\n",
       "      <td>Umbrella Corporation</td>\n",
       "      <td>SE</td>\n",
       "      <td>1291.63</td>\n",
       "    </tr>\n",
       "  </tbody>\n",
       "</table>\n",
       "<p>10956 rows × 6 columns</p>\n",
       "</div>"
      ],
      "text/plain": [
       "             Data           Vendedor                    Cargo  \\\n",
       "0      2014-01-01  Bernardo de Sousa  Supervisor de Vendas Pl   \n",
       "1      2014-01-01  Bernardo de Sousa  Supervisor de Vendas Pl   \n",
       "2      2014-01-01  Bernardo de Sousa  Supervisor de Vendas Pl   \n",
       "3      2014-01-01  Bernardo de Sousa  Supervisor de Vendas Pl   \n",
       "4      2014-01-01  Bernardo de Sousa  Supervisor de Vendas Pl   \n",
       "...           ...                ...                      ...   \n",
       "130378 2016-12-31  Bernardo de Sousa  Supervisor de Vendas Pl   \n",
       "130379 2016-12-31  Bernardo de Sousa  Supervisor de Vendas Pl   \n",
       "130380 2016-12-31  Bernardo de Sousa  Supervisor de Vendas Pl   \n",
       "130381 2016-12-31  Bernardo de Sousa  Supervisor de Vendas Pl   \n",
       "130382 2016-12-31  Bernardo de Sousa  Supervisor de Vendas Pl   \n",
       "\n",
       "                     cliente  Uf   Vendas  \n",
       "0                       ACME  AL  3276.20  \n",
       "1                       ACME  AP  3005.86  \n",
       "2                       ACME  MA  8568.54  \n",
       "3                       ACME  MG  1344.27  \n",
       "4                       ACME  MS  7585.04  \n",
       "...                      ...  ..      ...  \n",
       "130378  Umbrella Corporation  PA  2740.70  \n",
       "130379  Umbrella Corporation  PE  3274.59  \n",
       "130380  Umbrella Corporation  RN  3879.86  \n",
       "130381  Umbrella Corporation  RO  2930.09  \n",
       "130382  Umbrella Corporation  SE  1291.63  \n",
       "\n",
       "[10956 rows x 6 columns]"
      ]
     },
     "execution_count": 23,
     "metadata": {},
     "output_type": "execute_result"
    }
   ],
   "source": [
    "# Filtrar as vendas de acordo com o cargo\n",
    "\n",
    "df[df['Cargo'] == 'Supervisor de Vendas Pl']"
   ]
  },
  {
   "cell_type": "markdown",
   "metadata": {},
   "source": [
    "Supervisor de Vendas Pl"
   ]
  },
  {
   "cell_type": "code",
   "execution_count": 26,
   "metadata": {},
   "outputs": [],
   "source": [
    "dados = df[df['Cargo'] == 'Supervisor de Vendas Pl']\n",
    "\n",
    "# Pasta para salvar o arquivo\n",
    "\n",
    "caminho = 'C:\\\\Users\\\\FIC\\\\Documents\\\\Luiz Antonio Python\\\\003 - Arquivos\\\\relatorio por cargo\\\\'\n",
    "arquivo = 'Supervisor de Vendas PL.csv'\n",
    "\n",
    "# Salvar o arquivo no diretório\n",
    "\n",
    "dados.to_csv(caminho + arquivo)"
   ]
  },
  {
   "cell_type": "markdown",
   "metadata": {},
   "source": [
    "Gerente Regional Jr."
   ]
  },
  {
   "cell_type": "code",
   "execution_count": 28,
   "metadata": {},
   "outputs": [],
   "source": [
    "dados = df[df['Cargo'] == 'Gerente Regional Jr']\n",
    "\n",
    "# Pasta para salvar o arquivo\n",
    "\n",
    "caminho = 'C:\\\\Users\\\\FIC\\\\Documents\\\\Luiz Antonio Python\\\\003 - Arquivos\\\\relatorio por cargo\\\\'\n",
    "arquivo = 'Gerente Regional Jr.csv'\n",
    "\n",
    "# Salvar o arquivo no diretório\n",
    "\n",
    "dados.to_csv(caminho + arquivo)"
   ]
  },
  {
   "cell_type": "markdown",
   "metadata": {},
   "source": [
    "Supervisor de Vendas Sr"
   ]
  },
  {
   "cell_type": "code",
   "execution_count": 29,
   "metadata": {},
   "outputs": [],
   "source": [
    "dados = df[df['Cargo'] == 'Supervisor de Vendas Sr']\n",
    "\n",
    "# Pasta para salvar o arquivo\n",
    "\n",
    "caminho = 'C:\\\\Users\\\\FIC\\\\Documents\\\\Luiz Antonio Python\\\\003 - Arquivos\\\\relatorio por cargo\\\\'\n",
    "arquivo = 'Supervisor de Vendas Sr.csv'\n",
    "\n",
    "# Salvar o arquivo no diretório\n",
    "\n",
    "dados.to_csv(caminho + arquivo)"
   ]
  },
  {
   "cell_type": "markdown",
   "metadata": {},
   "source": [
    "Coordenador de Vendas Pl"
   ]
  },
  {
   "cell_type": "code",
   "execution_count": 30,
   "metadata": {},
   "outputs": [],
   "source": [
    "dados = df[df['Cargo'] == 'Coordenador de Vendas Pl']\n",
    "\n",
    "# Pasta para salvar o arquivo\n",
    "\n",
    "caminho = 'C:\\\\Users\\\\FIC\\\\Documents\\\\Luiz Antonio Python\\\\003 - Arquivos\\\\relatorio por cargo\\\\'\n",
    "arquivo = 'Coordenador de Vendas Pl.csv'\n",
    "\n",
    "# Salvar o arquivo no diretório\n",
    "\n",
    "dados.to_csv(caminho + arquivo)"
   ]
  },
  {
   "cell_type": "markdown",
   "metadata": {},
   "source": [
    "Vendedor Jr."
   ]
  },
  {
   "cell_type": "code",
   "execution_count": 31,
   "metadata": {},
   "outputs": [],
   "source": [
    "dados = df[df['Cargo'] == 'Vendedor Jr']\n",
    "\n",
    "# Pasta para salvar o arquivo\n",
    "\n",
    "caminho = 'C:\\\\Users\\\\FIC\\\\Documents\\\\Luiz Antonio Python\\\\003 - Arquivos\\\\relatorio por cargo\\\\'\n",
    "arquivo = 'Vendedor Jr.csv'\n",
    "\n",
    "# Salvar o arquivo no diretório\n",
    "\n",
    "dados.to_csv(caminho + arquivo)"
   ]
  },
  {
   "cell_type": "markdown",
   "metadata": {},
   "source": [
    "Vendedor Sr."
   ]
  },
  {
   "cell_type": "code",
   "execution_count": 32,
   "metadata": {},
   "outputs": [],
   "source": [
    "dados = df[df['Cargo'] == 'Vendedor Sr.']\n",
    "\n",
    "# Pasta para salvar o arquivo\n",
    "\n",
    "caminho = 'C:\\\\Users\\\\FIC\\\\Documents\\\\Luiz Antonio Python\\\\003 - Arquivos\\\\relatorio por cargo\\\\'\n",
    "arquivo = 'Vendedor Sr..csv'\n",
    "\n",
    "# Salvar o arquivo no diretório\n",
    "\n",
    "dados.to_csv(caminho + arquivo)"
   ]
  },
  {
   "cell_type": "markdown",
   "metadata": {},
   "source": [
    "Vendedor Pl."
   ]
  },
  {
   "cell_type": "code",
   "execution_count": 33,
   "metadata": {},
   "outputs": [],
   "source": [
    "dados = df[df['Cargo'] == 'Vendedor Pl.']\n",
    "\n",
    "# Pasta para salvar o arquivo\n",
    "\n",
    "caminho = 'C:\\\\Users\\\\FIC\\\\Documents\\\\Luiz Antonio Python\\\\003 - Arquivos\\\\relatorio por cargo\\\\'\n",
    "arquivo = 'Vendedor Pl.csv'\n",
    "\n",
    "# Salvar o arquivo no diretório\n",
    "\n",
    "dados.to_csv(caminho + arquivo)"
   ]
  },
  {
   "cell_type": "markdown",
   "metadata": {},
   "source": [
    "Gerente Regional Pl."
   ]
  },
  {
   "cell_type": "code",
   "execution_count": 34,
   "metadata": {},
   "outputs": [],
   "source": [
    "dados = df[df['Cargo'] ==' Gerente Regional Pl.']\n",
    "\n",
    "  # Pasta para salvar o arquivo\n",
    "\n",
    "caminho = 'C:\\\\Users\\\\FIC\\\\Documents\\\\Luiz Antonio Python\\\\003 - Arquivos\\\\relatorio por cargo\\\\'\n",
    "arquivo = 'Gerente Regional Pl.csv'\n",
    "\n",
    "# Salvar o arquivo no diretório\n",
    "\n",
    "dados.to_csv(caminho + arquivo)"
   ]
  },
  {
   "cell_type": "markdown",
   "metadata": {},
   "source": [
    "Coordenador de Vendas Sr."
   ]
  },
  {
   "cell_type": "code",
   "execution_count": 35,
   "metadata": {},
   "outputs": [],
   "source": [
    "dados = df[df['Cargo'] =='Coordenador de Vendas Sr.']\n",
    "\n",
    "  # Pasta para salvar o arquivo\n",
    "\n",
    "caminho = 'C:\\\\Users\\\\FIC\\\\Documents\\\\Luiz Antonio Python\\\\003 - Arquivos\\\\relatorio por cargo\\\\'\n",
    "arquivo = 'Coordenador de Vendas Sr.csv'\n",
    "\n",
    "# Salvar o arquivo no diretório\n",
    "\n",
    "dados.to_csv(caminho + arquivo)"
   ]
  },
  {
   "cell_type": "markdown",
   "metadata": {},
   "source": [
    "Coordenador de Vendas Jr."
   ]
  },
  {
   "cell_type": "code",
   "execution_count": 36,
   "metadata": {},
   "outputs": [],
   "source": [
    "dados = df[df['Cargo'] =='Coordenador de Vendas Jr.']\n",
    "\n",
    "  # Pasta para salvar o arquivo\n",
    "\n",
    "caminho = 'C:\\\\Users\\\\FIC\\\\Documents\\\\Luiz Antonio Python\\\\003 - Arquivos\\\\relatorio por cargo\\\\'\n",
    "arquivo = 'Coordenador de Vendas Jr.csv'\n",
    "\n",
    "# Salvar o arquivo no diretório\n",
    "\n",
    "dados.to_csv(caminho + arquivo)"
   ]
  },
  {
   "cell_type": "markdown",
   "metadata": {},
   "source": [
    "Supervisor de Vendas Jr."
   ]
  },
  {
   "cell_type": "code",
   "execution_count": 37,
   "metadata": {},
   "outputs": [],
   "source": [
    "dados = df[df['Cargo'] =='Supervisor de Vendas Jr.']\n",
    "\n",
    "  # Pasta para salvar o arquivo\n",
    "\n",
    "caminho = 'C:\\\\Users\\\\FIC\\\\Documents\\\\Luiz Antonio Python\\\\003 - Arquivos\\\\relatorio por cargo\\\\'\n",
    "arquivo = 'Supervisor de Vendas Jr.csv'\n",
    "\n",
    "# Salvar o arquivo no diretório\n",
    "\n",
    "dados.to_csv(caminho + arquivo)"
   ]
  },
  {
   "cell_type": "markdown",
   "metadata": {},
   "source": [
    "9. Crie um dataframe para cada coluna, contendo dados únicos."
   ]
  },
  {
   "cell_type": "code",
   "execution_count": 38,
   "metadata": {},
   "outputs": [
    {
     "data": {
      "text/plain": [
       "0         Supervisor de Vendas Pl\n",
       "1         Supervisor de Vendas Pl\n",
       "2         Supervisor de Vendas Pl\n",
       "3         Supervisor de Vendas Pl\n",
       "4         Supervisor de Vendas Pl\n",
       "                   ...           \n",
       "130461               Vendedor Pl.\n",
       "130462               Vendedor Pl.\n",
       "130463               Vendedor Pl.\n",
       "130464               Vendedor Pl.\n",
       "130465               Vendedor Pl.\n",
       "Name: Cargo, Length: 130466, dtype: object"
      ]
     },
     "execution_count": 38,
     "metadata": {},
     "output_type": "execute_result"
    }
   ],
   "source": [
    "df['Cargo']\n",
    "\n",
    "# Registros totais"
   ]
  },
  {
   "cell_type": "code",
   "execution_count": 39,
   "metadata": {},
   "outputs": [
    {
     "data": {
      "text/plain": [
       "0    Supervisor de Vendas Pl\n",
       "1    Supervisor de Vendas Pl\n",
       "2    Supervisor de Vendas Pl\n",
       "3    Supervisor de Vendas Pl\n",
       "4    Supervisor de Vendas Pl\n",
       "Name: Cargo, dtype: object"
      ]
     },
     "execution_count": 39,
     "metadata": {},
     "output_type": "execute_result"
    }
   ],
   "source": [
    "dados_cargos = df['Cargo']\n",
    "\n",
    "dados_cargos.head()"
   ]
  },
  {
   "cell_type": "code",
   "execution_count": 41,
   "metadata": {},
   "outputs": [
    {
     "data": {
      "text/plain": [
       "130466"
      ]
     },
     "execution_count": 41,
     "metadata": {},
     "output_type": "execute_result"
    }
   ],
   "source": [
    "# Mostra quabtidade de elmentos\n",
    "\n",
    "dados_cargos = df['Cargo']\n",
    "\n",
    "dados_cargos.count()"
   ]
  },
  {
   "cell_type": "code",
   "execution_count": 45,
   "metadata": {},
   "outputs": [
    {
     "ename": "AttributeError",
     "evalue": "'str' object has no attribute 'drop_duplicates'",
     "output_type": "error",
     "traceback": [
      "\u001b[1;31m---------------------------------------------------------------------------\u001b[0m",
      "\u001b[1;31mAttributeError\u001b[0m                            Traceback (most recent call last)",
      "\u001b[1;32mc:\\Users\\FIC\\Documents\\Luiz Antonio Python\\Aula 08 Pandas exercício 03 .ipynb Cell 45\u001b[0m line \u001b[0;36m1\n\u001b[0;32m      <a href='vscode-notebook-cell:/c%3A/Users/FIC/Documents/Luiz%20Antonio%20Python/Aula%2008%20Pandas%20exerc%C3%ADcio%2003%20.ipynb#Y104sZmlsZQ%3D%3D?line=6'>7</a>\u001b[0m dados_cargos\u001b[39m.\u001b[39mcount()\n\u001b[0;32m      <a href='vscode-notebook-cell:/c%3A/Users/FIC/Documents/Luiz%20Antonio%20Python/Aula%2008%20Pandas%20exerc%C3%ADcio%2003%20.ipynb#Y104sZmlsZQ%3D%3D?line=8'>9</a>\u001b[0m \u001b[39m# Criar um novo dataframe sem duplicadas\u001b[39;00m\n\u001b[1;32m---> <a href='vscode-notebook-cell:/c%3A/Users/FIC/Documents/Luiz%20Antonio%20Python/Aula%2008%20Pandas%20exerc%C3%ADcio%2003%20.ipynb#Y104sZmlsZQ%3D%3D?line=10'>11</a>\u001b[0m dados_cargos \u001b[39m=\u001b[39m \u001b[39m'\u001b[39;49m\u001b[39mdata_cargos\u001b[39;49m\u001b[39m'\u001b[39;49m\u001b[39m.\u001b[39;49mdrop_duplicates()\n\u001b[0;32m     <a href='vscode-notebook-cell:/c%3A/Users/FIC/Documents/Luiz%20Antonio%20Python/Aula%2008%20Pandas%20exerc%C3%ADcio%2003%20.ipynb#Y104sZmlsZQ%3D%3D?line=12'>13</a>\u001b[0m \u001b[39m# Contar quantos elementos ficarem após a remoção das duplicadas\u001b[39;00m\n\u001b[0;32m     <a href='vscode-notebook-cell:/c%3A/Users/FIC/Documents/Luiz%20Antonio%20Python/Aula%2008%20Pandas%20exerc%C3%ADcio%2003%20.ipynb#Y104sZmlsZQ%3D%3D?line=13'>14</a>\u001b[0m dados_cargos\u001b[39m.\u001b[39mcount()\n",
      "\u001b[1;31mAttributeError\u001b[0m: 'str' object has no attribute 'drop_duplicates'"
     ]
    }
   ],
   "source": [
    "# Criar um dataframe apenas coma coluna Cargo\n",
    "\n",
    "dados_cargos = df['Cargo']\n",
    "\n",
    "# Contar quantos elementos existem antes de remover as duplicadas\n",
    "\n",
    "dados_cargos.count()\n",
    "\n",
    "# Criar um novo dataframe sem duplicadas\n",
    "\n",
    "dados_cargos = data_cargos.drop_duplicates()\n",
    "\n",
    "# Contar quantos elementos ficarem após a remoção das duplicadas\n",
    "dados_cargos.count()\n",
    "\n",
    "dados_cargos\n"
   ]
  }
 ],
 "metadata": {
  "kernelspec": {
   "display_name": "base",
   "language": "python",
   "name": "python3"
  },
  "language_info": {
   "codemirror_mode": {
    "name": "ipython",
    "version": 3
   },
   "file_extension": ".py",
   "mimetype": "text/x-python",
   "name": "python",
   "nbconvert_exporter": "python",
   "pygments_lexer": "ipython3",
   "version": "3.10.9"
  },
  "orig_nbformat": 4
 },
 "nbformat": 4,
 "nbformat_minor": 2
}
