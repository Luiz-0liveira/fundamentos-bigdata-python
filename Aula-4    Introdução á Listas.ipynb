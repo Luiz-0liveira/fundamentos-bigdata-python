{
 "cells": [
  {
   "cell_type": "markdown",
   "metadata": {},
   "source": [
    "\n",
    "## Trabalhando com listas"
   ]
  },
  {
   "cell_type": "code",
   "execution_count": 15,
   "metadata": {},
   "outputs": [],
   "source": [
    "# Criando uma lista\n",
    "\n",
    "alunos = ['Amanda','Ana','Aurineide','Perclides']\n",
    "notas = [10,20,30,40]"
   ]
  },
  {
   "cell_type": "code",
   "execution_count": 16,
   "metadata": {},
   "outputs": [
    {
     "data": {
      "text/plain": [
       "'Aurineide'"
      ]
     },
     "execution_count": 16,
     "metadata": {},
     "output_type": "execute_result"
    }
   ],
   "source": [
    "alunos[2]"
   ]
  },
  {
   "cell_type": "code",
   "execution_count": 17,
   "metadata": {},
   "outputs": [
    {
     "name": "stdout",
     "output_type": "stream",
     "text": [
      "O time que está na 3° posição é: Cotitiba\n",
      "O time que está na 4° posição é: Santos\n",
      "O time que está na 1° posição é: Palmeiras\n"
     ]
    }
   ],
   "source": [
    "# crie uma lista com nome de times\n",
    "\n",
    "times = ['Palmeiras','São Paulo','Cotitiba','Santos']\n",
    "         \n",
    "# Acessar o time que  está na 3º Posição.\n",
    "print('O time que está na 3° posição é:',times[2])\n",
    "\n",
    "# Acessar o time que  está na 4º Posição.\n",
    "print('O time que está na 4° posição é:',times[3])\n",
    "\n",
    "# Acessar o time que  está na 1º Posição.\n",
    "print('O time que está na 1° posição é:',times[0])"
   ]
  },
  {
   "cell_type": "markdown",
   "metadata": {},
   "source": [
    "## 3.crie uma lista com duas listas de 2 times de futebol, cada uma de uma divisão diferente.\n"
   ]
  },
  {
   "cell_type": "code",
   "execution_count": 23,
   "metadata": {},
   "outputs": [
    {
     "name": "stdout",
     "output_type": "stream",
     "text": [
      "Os elementos da lista são: [['Palmeiras', 'Santos', 'Coritiba', 'São Paulo'], ['Corinthians', 'São Caetano', 'Bahia', 'Sporte']]\n",
      "Primeira lista: ['Palmeiras', 'Santos', 'Coritiba', 'São Paulo']\n",
      "Segunda lista: ['Corinthians', 'São Caetano', 'Bahia', 'Sporte']\n",
      "Terceiro elemento da 1º lista é:  Coritiba\n"
     ]
    }
   ],
   "source": [
    "# Criando listas em listas\n",
    "\n",
    "campeonato = [['Palmeiras','Santos','Coritiba','São Paulo'],['Corinthians','São Caetano','Bahia','Sporte']]\n",
    "\n",
    "# retornar todos os elementos da lsta\n",
    "print('Os elementos da lista são:', campeonato)\n",
    "\n",
    "# retornar a primeira  lista\n",
    "print('Primeira lista:', campeonato[0])\n",
    "\n",
    "# retornar a segunda  lista\n",
    "print('Segunda lista:', campeonato[1])\n",
    "\n",
    "# Retornar o terceiro elemento da primeira lista\n",
    "print('Terceiro elemento da 1º lista é: ', campeonato[0][2])\n"
   ]
  }
 ],
 "metadata": {
  "kernelspec": {
   "display_name": "base",
   "language": "python",
   "name": "python3"
  },
  "language_info": {
   "codemirror_mode": {
    "name": "ipython",
    "version": 3
   },
   "file_extension": ".py",
   "mimetype": "text/x-python",
   "name": "python",
   "nbconvert_exporter": "python",
   "pygments_lexer": "ipython3",
   "version": "3.10.9"
  },
  "orig_nbformat": 4
 },
 "nbformat": 4,
 "nbformat_minor": 2
}
