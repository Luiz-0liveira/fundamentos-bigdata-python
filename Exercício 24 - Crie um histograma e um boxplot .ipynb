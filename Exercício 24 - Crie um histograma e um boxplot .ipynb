{
 "cells": [
  {
   "cell_type": "markdown",
   "metadata": {},
   "source": [
    "### Exercício 24 – \n",
    "Uma empresa tem um conjunto de dados sobre a dimensão de um\n",
    "determinado produto feito com matéria-prima de três fornecedores. Você foi designado\n",
    "a desenvolver uma análise para conseguir analisar quais desses fornecedores tem a\n",
    "matéria prima que não garante o dimensional final deste produto, a media máxima é de\n",
    "120,15 mm e a dimensão mínima é de 119,9 mm. Crie um histograma e um boxplot para\n",
    "analisar as medidas de cada fornecedor e um boxplot para comparar os três\n",
    "fornecedores. Utilize o arquivo fornecedores.xlsx"
   ]
  },
  {
   "cell_type": "code",
   "execution_count": 2,
   "metadata": {},
   "outputs": [
    {
     "data": {
      "text/html": [
       "<div>\n",
       "<style scoped>\n",
       "    .dataframe tbody tr th:only-of-type {\n",
       "        vertical-align: middle;\n",
       "    }\n",
       "\n",
       "    .dataframe tbody tr th {\n",
       "        vertical-align: top;\n",
       "    }\n",
       "\n",
       "    .dataframe thead th {\n",
       "        text-align: right;\n",
       "    }\n",
       "</style>\n",
       "<table border=\"1\" class=\"dataframe\">\n",
       "  <thead>\n",
       "    <tr style=\"text-align: right;\">\n",
       "      <th></th>\n",
       "      <th>Unnamed: 0</th>\n",
       "      <th>Unnamed: 1</th>\n",
       "      <th>Unnamed: 2</th>\n",
       "      <th>Unnamed: 3</th>\n",
       "    </tr>\n",
       "  </thead>\n",
       "  <tbody>\n",
       "    <tr>\n",
       "      <th>0</th>\n",
       "      <td>NaN</td>\n",
       "      <td>Distância entre Centros dos Furos de Fixação</td>\n",
       "      <td>NaN</td>\n",
       "      <td>NaN</td>\n",
       "    </tr>\n",
       "    <tr>\n",
       "      <th>1</th>\n",
       "      <td>NaN</td>\n",
       "      <td>Fornecedor 1</td>\n",
       "      <td>Fornecedor 2</td>\n",
       "      <td>Fornecedor 3</td>\n",
       "    </tr>\n",
       "    <tr>\n",
       "      <th>2</th>\n",
       "      <td>NaN</td>\n",
       "      <td>NaN</td>\n",
       "      <td>NaN</td>\n",
       "      <td>NaN</td>\n",
       "    </tr>\n",
       "    <tr>\n",
       "      <th>3</th>\n",
       "      <td>NaN</td>\n",
       "      <td>120.128365</td>\n",
       "      <td>120.009173</td>\n",
       "      <td>120.047794</td>\n",
       "    </tr>\n",
       "    <tr>\n",
       "      <th>4</th>\n",
       "      <td>NaN</td>\n",
       "      <td>119.99461</td>\n",
       "      <td>120.018834</td>\n",
       "      <td>120.171942</td>\n",
       "    </tr>\n",
       "  </tbody>\n",
       "</table>\n",
       "</div>"
      ],
      "text/plain": [
       "   Unnamed: 0                                    Unnamed: 1    Unnamed: 2  \\\n",
       "0         NaN  Distância entre Centros dos Furos de Fixação           NaN   \n",
       "1         NaN                                  Fornecedor 1  Fornecedor 2   \n",
       "2         NaN                                           NaN           NaN   \n",
       "3         NaN                                    120.128365    120.009173   \n",
       "4         NaN                                     119.99461    120.018834   \n",
       "\n",
       "     Unnamed: 3  \n",
       "0           NaN  \n",
       "1  Fornecedor 3  \n",
       "2           NaN  \n",
       "3    120.047794  \n",
       "4    120.171942  "
      ]
     },
     "execution_count": 2,
     "metadata": {},
     "output_type": "execute_result"
    }
   ],
   "source": [
    "# Importação das bibliotecas\n",
    "import pandas as pd \n",
    "# Importa a biblioteca Seaborn\n",
    "import seaborn as sns\n",
    "# Importa a biblioteca matplotlib\n",
    "import matplotlib.pyplot as plt\n",
    "\n",
    "\n",
    "## Carregar o arquivo e inserir emum dataframe\n",
    "\n",
    "path = 'C:\\\\Users\\\\FIC\\Documents\\\\Luiz Antonio Python\\\\003 - Arquivos\\\\'\n",
    "file = 'fornecedores.xlsx'\n",
    "\n",
    "# carregar o arquivo e inserir em um dataframe\n",
    "df = pd.read_excel(path + file)\n",
    "\n",
    "# Visualizar o cabeçalho do dataframe\n",
    "df.head()"
   ]
  },
  {
   "cell_type": "markdown",
   "metadata": {},
   "source": [
    "## Tratamento dos dados\n",
    "Utilizar o método loc para excluir três primeiras linahs ea coluna unnmwd:0\n"
   ]
  },
  {
   "cell_type": "code",
   "execution_count": 3,
   "metadata": {},
   "outputs": [
    {
     "data": {
      "text/html": [
       "<div>\n",
       "<style scoped>\n",
       "    .dataframe tbody tr th:only-of-type {\n",
       "        vertical-align: middle;\n",
       "    }\n",
       "\n",
       "    .dataframe tbody tr th {\n",
       "        vertical-align: top;\n",
       "    }\n",
       "\n",
       "    .dataframe thead th {\n",
       "        text-align: right;\n",
       "    }\n",
       "</style>\n",
       "<table border=\"1\" class=\"dataframe\">\n",
       "  <thead>\n",
       "    <tr style=\"text-align: right;\">\n",
       "      <th></th>\n",
       "      <th>Unnamed: 1</th>\n",
       "      <th>Unnamed: 2</th>\n",
       "      <th>Unnamed: 3</th>\n",
       "    </tr>\n",
       "  </thead>\n",
       "  <tbody>\n",
       "    <tr>\n",
       "      <th>3</th>\n",
       "      <td>120.128365</td>\n",
       "      <td>120.009173</td>\n",
       "      <td>120.047794</td>\n",
       "    </tr>\n",
       "    <tr>\n",
       "      <th>4</th>\n",
       "      <td>119.99461</td>\n",
       "      <td>120.018834</td>\n",
       "      <td>120.171942</td>\n",
       "    </tr>\n",
       "    <tr>\n",
       "      <th>5</th>\n",
       "      <td>119.920824</td>\n",
       "      <td>120.038432</td>\n",
       "      <td>120.227087</td>\n",
       "    </tr>\n",
       "    <tr>\n",
       "      <th>6</th>\n",
       "      <td>119.878206</td>\n",
       "      <td>119.994752</td>\n",
       "      <td>119.7133</td>\n",
       "    </tr>\n",
       "    <tr>\n",
       "      <th>7</th>\n",
       "      <td>120.108467</td>\n",
       "      <td>119.944263</td>\n",
       "      <td>120.314467</td>\n",
       "    </tr>\n",
       "    <tr>\n",
       "      <th>8</th>\n",
       "      <td>119.973057</td>\n",
       "      <td>120.041272</td>\n",
       "      <td>120.454577</td>\n",
       "    </tr>\n",
       "    <tr>\n",
       "      <th>9</th>\n",
       "      <td>119.787127</td>\n",
       "      <td>120.05769</td>\n",
       "      <td>119.596373</td>\n",
       "    </tr>\n",
       "    <tr>\n",
       "      <th>10</th>\n",
       "      <td>120.130082</td>\n",
       "      <td>119.966662</td>\n",
       "      <td>119.726468</td>\n",
       "    </tr>\n",
       "    <tr>\n",
       "      <th>11</th>\n",
       "      <td>119.855393</td>\n",
       "      <td>120.060411</td>\n",
       "      <td>119.999491</td>\n",
       "    </tr>\n",
       "    <tr>\n",
       "      <th>12</th>\n",
       "      <td>120.034106</td>\n",
       "      <td>120.003093</td>\n",
       "      <td>120.086683</td>\n",
       "    </tr>\n",
       "    <tr>\n",
       "      <th>13</th>\n",
       "      <td>120.135974</td>\n",
       "      <td>120.007733</td>\n",
       "      <td>120.043711</td>\n",
       "    </tr>\n",
       "    <tr>\n",
       "      <th>14</th>\n",
       "      <td>120.012395</td>\n",
       "      <td>120.012408</td>\n",
       "      <td>119.70341</td>\n",
       "    </tr>\n",
       "    <tr>\n",
       "      <th>15</th>\n",
       "      <td>119.993776</td>\n",
       "      <td>120.063446</td>\n",
       "      <td>120.273271</td>\n",
       "    </tr>\n",
       "    <tr>\n",
       "      <th>16</th>\n",
       "      <td>120.12228</td>\n",
       "      <td>120.019253</td>\n",
       "      <td>120.491869</td>\n",
       "    </tr>\n",
       "    <tr>\n",
       "      <th>17</th>\n",
       "      <td>119.996205</td>\n",
       "      <td>120.077745</td>\n",
       "      <td>120.371333</td>\n",
       "    </tr>\n",
       "    <tr>\n",
       "      <th>18</th>\n",
       "      <td>119.95671</td>\n",
       "      <td>119.903563</td>\n",
       "      <td>120.250873</td>\n",
       "    </tr>\n",
       "    <tr>\n",
       "      <th>19</th>\n",
       "      <td>119.910856</td>\n",
       "      <td>120.091497</td>\n",
       "      <td>120.453453</td>\n",
       "    </tr>\n",
       "    <tr>\n",
       "      <th>20</th>\n",
       "      <td>119.996833</td>\n",
       "      <td>120.109248</td>\n",
       "      <td>120.040451</td>\n",
       "    </tr>\n",
       "    <tr>\n",
       "      <th>21</th>\n",
       "      <td>119.947926</td>\n",
       "      <td>120.06278</td>\n",
       "      <td>120.061709</td>\n",
       "    </tr>\n",
       "    <tr>\n",
       "      <th>22</th>\n",
       "      <td>120.24401</td>\n",
       "      <td>119.968512</td>\n",
       "      <td>119.882655</td>\n",
       "    </tr>\n",
       "    <tr>\n",
       "      <th>23</th>\n",
       "      <td>120.090788</td>\n",
       "      <td>120.066277</td>\n",
       "      <td>120.103376</td>\n",
       "    </tr>\n",
       "    <tr>\n",
       "      <th>24</th>\n",
       "      <td>119.928483</td>\n",
       "      <td>120.131512</td>\n",
       "      <td>120.120745</td>\n",
       "    </tr>\n",
       "    <tr>\n",
       "      <th>25</th>\n",
       "      <td>119.859642</td>\n",
       "      <td>119.922787</td>\n",
       "      <td>119.59518</td>\n",
       "    </tr>\n",
       "    <tr>\n",
       "      <th>26</th>\n",
       "      <td>119.982563</td>\n",
       "      <td>120.164589</td>\n",
       "      <td>119.725635</td>\n",
       "    </tr>\n",
       "    <tr>\n",
       "      <th>27</th>\n",
       "      <td>119.936107</td>\n",
       "      <td>119.975974</td>\n",
       "      <td>120.205824</td>\n",
       "    </tr>\n",
       "    <tr>\n",
       "      <th>28</th>\n",
       "      <td>120.153735</td>\n",
       "      <td>119.990363</td>\n",
       "      <td>119.708989</td>\n",
       "    </tr>\n",
       "    <tr>\n",
       "      <th>29</th>\n",
       "      <td>120.106191</td>\n",
       "      <td>119.983245</td>\n",
       "      <td>119.579806</td>\n",
       "    </tr>\n",
       "    <tr>\n",
       "      <th>30</th>\n",
       "      <td>120.039753</td>\n",
       "      <td>119.92879</td>\n",
       "      <td>119.936999</td>\n",
       "    </tr>\n",
       "    <tr>\n",
       "      <th>31</th>\n",
       "      <td>120.056768</td>\n",
       "      <td>120.095684</td>\n",
       "      <td>119.904068</td>\n",
       "    </tr>\n",
       "    <tr>\n",
       "      <th>32</th>\n",
       "      <td>120.010286</td>\n",
       "      <td>120.058243</td>\n",
       "      <td>119.832244</td>\n",
       "    </tr>\n",
       "    <tr>\n",
       "      <th>33</th>\n",
       "      <td>119.805395</td>\n",
       "      <td>119.964339</td>\n",
       "      <td>119.676692</td>\n",
       "    </tr>\n",
       "    <tr>\n",
       "      <th>34</th>\n",
       "      <td>119.91113</td>\n",
       "      <td>119.981844</td>\n",
       "      <td>120.176384</td>\n",
       "    </tr>\n",
       "    <tr>\n",
       "      <th>35</th>\n",
       "      <td>119.934796</td>\n",
       "      <td>120.097742</td>\n",
       "      <td>120.131064</td>\n",
       "    </tr>\n",
       "    <tr>\n",
       "      <th>36</th>\n",
       "      <td>119.765421</td>\n",
       "      <td>120.109991</td>\n",
       "      <td>119.851329</td>\n",
       "    </tr>\n",
       "    <tr>\n",
       "      <th>37</th>\n",
       "      <td>120.040104</td>\n",
       "      <td>119.879007</td>\n",
       "      <td>119.428532</td>\n",
       "    </tr>\n",
       "    <tr>\n",
       "      <th>38</th>\n",
       "      <td>119.958425</td>\n",
       "      <td>119.833325</td>\n",
       "      <td>119.906161</td>\n",
       "    </tr>\n",
       "    <tr>\n",
       "      <th>39</th>\n",
       "      <td>119.990484</td>\n",
       "      <td>120.015553</td>\n",
       "      <td>120.684255</td>\n",
       "    </tr>\n",
       "    <tr>\n",
       "      <th>40</th>\n",
       "      <td>119.968554</td>\n",
       "      <td>119.96337</td>\n",
       "      <td>120.453352</td>\n",
       "    </tr>\n",
       "    <tr>\n",
       "      <th>41</th>\n",
       "      <td>119.916608</td>\n",
       "      <td>120.166577</td>\n",
       "      <td>120.025042</td>\n",
       "    </tr>\n",
       "    <tr>\n",
       "      <th>42</th>\n",
       "      <td>120.212371</td>\n",
       "      <td>120.042105</td>\n",
       "      <td>120.521921</td>\n",
       "    </tr>\n",
       "  </tbody>\n",
       "</table>\n",
       "</div>"
      ],
      "text/plain": [
       "    Unnamed: 1  Unnamed: 2  Unnamed: 3\n",
       "3   120.128365  120.009173  120.047794\n",
       "4    119.99461  120.018834  120.171942\n",
       "5   119.920824  120.038432  120.227087\n",
       "6   119.878206  119.994752    119.7133\n",
       "7   120.108467  119.944263  120.314467\n",
       "8   119.973057  120.041272  120.454577\n",
       "9   119.787127   120.05769  119.596373\n",
       "10  120.130082  119.966662  119.726468\n",
       "11  119.855393  120.060411  119.999491\n",
       "12  120.034106  120.003093  120.086683\n",
       "13  120.135974  120.007733  120.043711\n",
       "14  120.012395  120.012408   119.70341\n",
       "15  119.993776  120.063446  120.273271\n",
       "16   120.12228  120.019253  120.491869\n",
       "17  119.996205  120.077745  120.371333\n",
       "18   119.95671  119.903563  120.250873\n",
       "19  119.910856  120.091497  120.453453\n",
       "20  119.996833  120.109248  120.040451\n",
       "21  119.947926   120.06278  120.061709\n",
       "22   120.24401  119.968512  119.882655\n",
       "23  120.090788  120.066277  120.103376\n",
       "24  119.928483  120.131512  120.120745\n",
       "25  119.859642  119.922787   119.59518\n",
       "26  119.982563  120.164589  119.725635\n",
       "27  119.936107  119.975974  120.205824\n",
       "28  120.153735  119.990363  119.708989\n",
       "29  120.106191  119.983245  119.579806\n",
       "30  120.039753   119.92879  119.936999\n",
       "31  120.056768  120.095684  119.904068\n",
       "32  120.010286  120.058243  119.832244\n",
       "33  119.805395  119.964339  119.676692\n",
       "34   119.91113  119.981844  120.176384\n",
       "35  119.934796  120.097742  120.131064\n",
       "36  119.765421  120.109991  119.851329\n",
       "37  120.040104  119.879007  119.428532\n",
       "38  119.958425  119.833325  119.906161\n",
       "39  119.990484  120.015553  120.684255\n",
       "40  119.968554   119.96337  120.453352\n",
       "41  119.916608  120.166577  120.025042\n",
       "42  120.212371  120.042105  120.521921"
      ]
     },
     "execution_count": 3,
     "metadata": {},
     "output_type": "execute_result"
    }
   ],
   "source": [
    "df.iloc[3:,1:]"
   ]
  },
  {
   "cell_type": "code",
   "execution_count": 4,
   "metadata": {},
   "outputs": [],
   "source": [
    "df= df.iloc[3:,1:]"
   ]
  },
  {
   "cell_type": "code",
   "execution_count": 5,
   "metadata": {},
   "outputs": [
    {
     "data": {
      "text/html": [
       "<div>\n",
       "<style scoped>\n",
       "    .dataframe tbody tr th:only-of-type {\n",
       "        vertical-align: middle;\n",
       "    }\n",
       "\n",
       "    .dataframe tbody tr th {\n",
       "        vertical-align: top;\n",
       "    }\n",
       "\n",
       "    .dataframe thead th {\n",
       "        text-align: right;\n",
       "    }\n",
       "</style>\n",
       "<table border=\"1\" class=\"dataframe\">\n",
       "  <thead>\n",
       "    <tr style=\"text-align: right;\">\n",
       "      <th></th>\n",
       "      <th>f_1</th>\n",
       "      <th>f_2</th>\n",
       "      <th>f_3</th>\n",
       "    </tr>\n",
       "  </thead>\n",
       "  <tbody>\n",
       "    <tr>\n",
       "      <th>3</th>\n",
       "      <td>120.128365</td>\n",
       "      <td>120.009173</td>\n",
       "      <td>120.047794</td>\n",
       "    </tr>\n",
       "    <tr>\n",
       "      <th>4</th>\n",
       "      <td>119.99461</td>\n",
       "      <td>120.018834</td>\n",
       "      <td>120.171942</td>\n",
       "    </tr>\n",
       "    <tr>\n",
       "      <th>5</th>\n",
       "      <td>119.920824</td>\n",
       "      <td>120.038432</td>\n",
       "      <td>120.227087</td>\n",
       "    </tr>\n",
       "    <tr>\n",
       "      <th>6</th>\n",
       "      <td>119.878206</td>\n",
       "      <td>119.994752</td>\n",
       "      <td>119.7133</td>\n",
       "    </tr>\n",
       "    <tr>\n",
       "      <th>7</th>\n",
       "      <td>120.108467</td>\n",
       "      <td>119.944263</td>\n",
       "      <td>120.314467</td>\n",
       "    </tr>\n",
       "  </tbody>\n",
       "</table>\n",
       "</div>"
      ],
      "text/plain": [
       "          f_1         f_2         f_3\n",
       "3  120.128365  120.009173  120.047794\n",
       "4   119.99461  120.018834  120.171942\n",
       "5  119.920824  120.038432  120.227087\n",
       "6  119.878206  119.994752    119.7133\n",
       "7  120.108467  119.944263  120.314467"
      ]
     },
     "execution_count": 5,
     "metadata": {},
     "output_type": "execute_result"
    }
   ],
   "source": [
    "df.columns = ['f_1','f_2','f_3']\n",
    "df.head()"
   ]
  },
  {
   "cell_type": "markdown",
   "metadata": {},
   "source": [
    "### Construção dos Histogramas"
   ]
  },
  {
   "cell_type": "code",
   "execution_count": 6,
   "metadata": {},
   "outputs": [
    {
     "data": {
      "text/plain": [
       "(array([3., 2., 1., 9., 9., 5., 2., 6., 1., 2.]),\n",
       " array([119.76542107, 119.81327997, 119.86113886, 119.90899776,\n",
       "        119.95685665, 120.00471555, 120.05257444, 120.10043334,\n",
       "        120.14829223, 120.19615113, 120.24401002]),\n",
       " <BarContainer object of 10 artists>)"
      ]
     },
     "execution_count": 6,
     "metadata": {},
     "output_type": "execute_result"
    },
    {
     "data": {
      "image/png": "[encoded data removed]",
      "text/plain": [
       "<Figure size 640x480 with 1 Axes>"
      ]
     },
     "metadata": {},
     "output_type": "display_data"
    }
   ],
   "source": [
    "# Fornecedor 01 Matplot\n",
    "\n",
    "plt.hist(df['f_1'])"
   ]
  },
  {
   "cell_type": "code",
   "execution_count": 7,
   "metadata": {},
   "outputs": [
    {
     "data": {
      "text/plain": [
       "<seaborn.axisgrid.FacetGrid at 0x2b44477add0>"
      ]
     },
     "execution_count": 7,
     "metadata": {},
     "output_type": "execute_result"
    },
    {
     "data": {
      "image/png": "[encoded data removed]",
      "text/plain": [
       "<Figure size 500x500 with 1 Axes>"
      ]
     },
     "metadata": {},
     "output_type": "display_data"
    }
   ],
   "source": [
    "# Fornecedor 01 Seaborn\n",
    "\n",
    "sns.displot(df['f_1'])"
   ]
  },
  {
   "cell_type": "code",
   "execution_count": 8,
   "metadata": {},
   "outputs": [
    {
     "data": {
      "text/plain": [
       "<seaborn.axisgrid.FacetGrid at 0x2b4446ce8c0>"
      ]
     },
     "execution_count": 8,
     "metadata": {},
     "output_type": "execute_result"
    },
    {
     "data": {
      "image/png": "[encoded data removed]",
      "text/plain": [
       "<Figure size 500x500 with 1 Axes>"
      ]
     },
     "metadata": {},
     "output_type": "display_data"
    }
   ],
   "source": [
    "# Bins determina o número de classes (colunas)\n",
    "sns.displot(df['f_1'], bins = 10)"
   ]
  },
  {
   "cell_type": "code",
   "execution_count": 9,
   "metadata": {},
   "outputs": [
    {
     "data": {
      "text/plain": [
       "<seaborn.axisgrid.FacetGrid at 0x2b444eb1150>"
      ]
     },
     "execution_count": 9,
     "metadata": {},
     "output_type": "execute_result"
    },
    {
     "data": {
      "image/png": "[encoded data removed]",
      "text/plain": [
       "<Figure size 500x500 with 1 Axes>"
      ]
     },
     "metadata": {},
     "output_type": "display_data"
    }
   ],
   "source": [
    "# Fornecedor 02 Seaborn\n",
    "\n",
    "sns.displot(df['f_2'])"
   ]
  },
  {
   "cell_type": "code",
   "execution_count": 10,
   "metadata": {},
   "outputs": [
    {
     "data": {
      "text/plain": [
       "<seaborn.axisgrid.FacetGrid at 0x2b444f1a950>"
      ]
     },
     "execution_count": 10,
     "metadata": {},
     "output_type": "execute_result"
    },
    {
     "data": {
      "image/png": "[encoded data removed]",
      "text/plain": [
       "<Figure size 500x500 with 1 Axes>"
      ]
     },
     "metadata": {},
     "output_type": "display_data"
    }
   ],
   "source": [
    "# Fornecedor 03 Seaborn\n",
    "sns.displot(df['f_3'])"
   ]
  },
  {
   "cell_type": "code",
   "execution_count": 11,
   "metadata": {},
   "outputs": [
    {
     "name": "stdout",
     "output_type": "stream",
     "text": [
      "<class 'pandas.core.frame.DataFrame'>\n",
      "RangeIndex: 40 entries, 3 to 42\n",
      "Data columns (total 3 columns):\n",
      " #   Column  Non-Null Count  Dtype \n",
      "---  ------  --------------  ----- \n",
      " 0   f_1     40 non-null     object\n",
      " 1   f_2     40 non-null     object\n",
      " 2   f_3     40 non-null     object\n",
      "dtypes: object(3)\n",
      "memory usage: 1.1+ KB\n"
     ]
    }
   ],
   "source": [
    "df.info()"
   ]
  },
  {
   "cell_type": "markdown",
   "metadata": {},
   "source": [
    "## Criando Boxplot"
   ]
  },
  {
   "cell_type": "code",
   "execution_count": 12,
   "metadata": {},
   "outputs": [
    {
     "name": "stdout",
     "output_type": "stream",
     "text": [
      "<class 'pandas.core.frame.DataFrame'>\n",
      "RangeIndex: 40 entries, 3 to 42\n",
      "Data columns (total 3 columns):\n",
      " #   Column  Non-Null Count  Dtype  \n",
      "---  ------  --------------  -----  \n",
      " 0   f_1     40 non-null     float64\n",
      " 1   f_2     40 non-null     float64\n",
      " 2   f_3     40 non-null     float64\n",
      "dtypes: float64(3)\n",
      "memory usage: 1.1 KB\n"
     ]
    }
   ],
   "source": [
    "# converter o campo em numérico\n",
    "\n",
    "df['f_1'] = pd.to_numeric(df['f_1'])\n",
    "df['f_2'] = pd.to_numeric(df['f_2'])\n",
    "df['f_3'] = pd.to_numeric(df['f_3'])\n",
    "\n",
    "df.info()"
   ]
  },
  {
   "cell_type": "code",
   "execution_count": 13,
   "metadata": {},
   "outputs": [
    {
     "data": {
      "text/plain": [
       "<Axes: ylabel='f_1'>"
      ]
     },
     "execution_count": 13,
     "metadata": {},
     "output_type": "execute_result"
    },
    {
     "data": {
      "image/png": "[encoded data removed]",
      "text/plain": [
       "<Figure size 640x480 with 1 Axes>"
      ]
     },
     "metadata": {},
     "output_type": "display_data"
    }
   ],
   "source": [
    "sns.boxplot(y = df['f_1'])"
   ]
  },
  {
   "cell_type": "code",
   "execution_count": 14,
   "metadata": {},
   "outputs": [
    {
     "data": {
      "text/plain": [
       "<Axes: ylabel='f_2'>"
      ]
     },
     "execution_count": 14,
     "metadata": {},
     "output_type": "execute_result"
    },
    {
     "data": {
      "image/png": "[encoded data removed]",
      "text/plain": [
       "<Figure size 640x480 with 1 Axes>"
      ]
     },
     "metadata": {},
     "output_type": "display_data"
    }
   ],
   "source": [
    "sns.boxplot(y = df['f_2'])"
   ]
  },
  {
   "cell_type": "code",
   "execution_count": 15,
   "metadata": {},
   "outputs": [
    {
     "data": {
      "text/plain": [
       "<Axes: ylabel='f_3'>"
      ]
     },
     "execution_count": 15,
     "metadata": {},
     "output_type": "execute_result"
    },
    {
     "data": {
      "image/png": "[encoded data removed]",
      "text/plain": [
       "<Figure size 640x480 with 1 Axes>"
      ]
     },
     "metadata": {},
     "output_type": "display_data"
    }
   ],
   "source": [
    "sns.boxplot(y = df['f_3'])"
   ]
  },
  {
   "cell_type": "code",
   "execution_count": 19,
   "metadata": {},
   "outputs": [
    {
     "data": {
      "text/plain": [
       "<Axes: >"
      ]
     },
     "execution_count": 19,
     "metadata": {},
     "output_type": "execute_result"
    },
    {
     "data": {
      "image/png": "[encoded data removed]",
      "text/plain": [
       "<Figure size 640x480 with 1 Axes>"
      ]
     },
     "metadata": {},
     "output_type": "display_data"
    }
   ],
   "source": [
    "sns.boxplot(df)"
   ]
  }
 ],
 "metadata": {
  "kernelspec": {
   "display_name": "base",
   "language": "python",
   "name": "python3"
  },
  "language_info": {
   "codemirror_mode": {
    "name": "ipython",
    "version": 3
   },
   "file_extension": ".py",
   "mimetype": "text/x-python",
   "name": "python",
   "nbconvert_exporter": "python",
   "pygments_lexer": "ipython3",
   "version": "3.10.9"
  },
  "orig_nbformat": 4
 },
 "nbformat": 4,
 "nbformat_minor": 2
}
