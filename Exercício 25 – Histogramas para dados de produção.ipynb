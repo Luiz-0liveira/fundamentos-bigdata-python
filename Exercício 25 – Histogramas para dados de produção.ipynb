{
 "cells": [
  {
   "cell_type": "markdown",
   "metadata": {},
   "source": [
    "## Exercício 25 – Histogramas para dados de produção\n",
    "\n",
    "A empresa TODOSUNIDOS recebeu um lote inicial de eixos para montagem de motores\n",
    "destinados a servomecanismos de aeronaves. Foi necessária uma verificação para\n",
    "identificar a capacidade de cada um de três fornecedores, visto que pretendia-se firmar\n",
    "um futuro contrato de parceria. Optou-se por utilizar histograma da distribuição dos\n",
    "diâmetros externos de uma amostra aleatória de 240 eixos, proveniente dos três\n",
    "fornecedores. O limite de especificação dos diâmetros é 5 ± 2 (cm).\n",
    "Arquivo: eixos.xls\n",
    "Planilha: eixos\n",
    "\n",
    "a) Que conclusões você obtém por meio de uma análise preliminar do histograma\n",
    "com todos os eixos?\n",
    "\n",
    "b) Que conclusões você obtém por meio de uma análise preliminar dos histogramas\n",
    "por fornecedor?\n",
    "\n",
    "c) Que outro gráfico auxiliaria você na análise solicitada no item anterior?"
   ]
  },
  {
   "cell_type": "code",
   "execution_count": 2,
   "metadata": {},
   "outputs": [
    {
     "data": {
      "text/html": [
       "<div>\n",
       "<style scoped>\n",
       "    .dataframe tbody tr th:only-of-type {\n",
       "        vertical-align: middle;\n",
       "    }\n",
       "\n",
       "    .dataframe tbody tr th {\n",
       "        vertical-align: top;\n",
       "    }\n",
       "\n",
       "    .dataframe thead th {\n",
       "        text-align: right;\n",
       "    }\n",
       "</style>\n",
       "<table border=\"1\" class=\"dataframe\">\n",
       "  <thead>\n",
       "    <tr style=\"text-align: right;\">\n",
       "      <th></th>\n",
       "      <th>diametro</th>\n",
       "      <th>fornecedor</th>\n",
       "    </tr>\n",
       "  </thead>\n",
       "  <tbody>\n",
       "    <tr>\n",
       "      <th>0</th>\n",
       "      <td>3.2</td>\n",
       "      <td>1</td>\n",
       "    </tr>\n",
       "    <tr>\n",
       "      <th>1</th>\n",
       "      <td>3.2</td>\n",
       "      <td>1</td>\n",
       "    </tr>\n",
       "    <tr>\n",
       "      <th>2</th>\n",
       "      <td>3.2</td>\n",
       "      <td>1</td>\n",
       "    </tr>\n",
       "    <tr>\n",
       "      <th>3</th>\n",
       "      <td>3.2</td>\n",
       "      <td>1</td>\n",
       "    </tr>\n",
       "    <tr>\n",
       "      <th>4</th>\n",
       "      <td>4.3</td>\n",
       "      <td>1</td>\n",
       "    </tr>\n",
       "  </tbody>\n",
       "</table>\n",
       "</div>"
      ],
      "text/plain": [
       "   diametro  fornecedor\n",
       "0       3.2           1\n",
       "1       3.2           1\n",
       "2       3.2           1\n",
       "3       3.2           1\n",
       "4       4.3           1"
      ]
     },
     "execution_count": 2,
     "metadata": {},
     "output_type": "execute_result"
    }
   ],
   "source": [
    "# Importação das bibliotecas\n",
    "import pandas as pd \n",
    "# Importa a biblioteca Seaborn\n",
    "import seaborn as sns\n",
    "# Importa a biblioteca matplotlib\n",
    "import matplotlib.pyplot as plt\n",
    "\n",
    "\n",
    "## Carregar o arquivo e inserir emum dataframe\n",
    "\n",
    "path = 'C:\\\\Users\\\\FIC\\Documents\\\\Luiz Antonio Python\\\\003 - Arquivos\\\\'\n",
    "file = 'eixos.xlsx'\n",
    "\n",
    "# carregar o arquivo e inserir em um dataframe\n",
    "df = pd.read_excel(path + file)\n",
    "\n",
    "# Visualizar o cabeçalho do dataframe\n",
    "df.head()"
   ]
  },
  {
   "cell_type": "code",
   "execution_count": 3,
   "metadata": {},
   "outputs": [
    {
     "data": {
      "text/html": [
       "<div>\n",
       "<style scoped>\n",
       "    .dataframe tbody tr th:only-of-type {\n",
       "        vertical-align: middle;\n",
       "    }\n",
       "\n",
       "    .dataframe tbody tr th {\n",
       "        vertical-align: top;\n",
       "    }\n",
       "\n",
       "    .dataframe thead th {\n",
       "        text-align: right;\n",
       "    }\n",
       "</style>\n",
       "<table border=\"1\" class=\"dataframe\">\n",
       "  <thead>\n",
       "    <tr style=\"text-align: right;\">\n",
       "      <th></th>\n",
       "      <th>diametro</th>\n",
       "      <th>fornecedor</th>\n",
       "    </tr>\n",
       "  </thead>\n",
       "  <tbody>\n",
       "    <tr>\n",
       "      <th>count</th>\n",
       "      <td>240.000000</td>\n",
       "      <td>240.000000</td>\n",
       "    </tr>\n",
       "    <tr>\n",
       "      <th>mean</th>\n",
       "      <td>4.907833</td>\n",
       "      <td>2.000000</td>\n",
       "    </tr>\n",
       "    <tr>\n",
       "      <th>std</th>\n",
       "      <td>1.170552</td>\n",
       "      <td>0.818203</td>\n",
       "    </tr>\n",
       "    <tr>\n",
       "      <th>min</th>\n",
       "      <td>2.300000</td>\n",
       "      <td>1.000000</td>\n",
       "    </tr>\n",
       "    <tr>\n",
       "      <th>25%</th>\n",
       "      <td>4.000000</td>\n",
       "      <td>1.000000</td>\n",
       "    </tr>\n",
       "    <tr>\n",
       "      <th>50%</th>\n",
       "      <td>4.700000</td>\n",
       "      <td>2.000000</td>\n",
       "    </tr>\n",
       "    <tr>\n",
       "      <th>75%</th>\n",
       "      <td>5.900000</td>\n",
       "      <td>3.000000</td>\n",
       "    </tr>\n",
       "    <tr>\n",
       "      <th>max</th>\n",
       "      <td>8.000000</td>\n",
       "      <td>3.000000</td>\n",
       "    </tr>\n",
       "  </tbody>\n",
       "</table>\n",
       "</div>"
      ],
      "text/plain": [
       "         diametro  fornecedor\n",
       "count  240.000000  240.000000\n",
       "mean     4.907833    2.000000\n",
       "std      1.170552    0.818203\n",
       "min      2.300000    1.000000\n",
       "25%      4.000000    1.000000\n",
       "50%      4.700000    2.000000\n",
       "75%      5.900000    3.000000\n",
       "max      8.000000    3.000000"
      ]
     },
     "execution_count": 3,
     "metadata": {},
     "output_type": "execute_result"
    }
   ],
   "source": [
    "df.describe()"
   ]
  },
  {
   "cell_type": "code",
   "execution_count": 5,
   "metadata": {},
   "outputs": [
    {
     "data": {
      "text/plain": [
       "<seaborn.axisgrid.FacetGrid at 0x263e155f040>"
      ]
     },
     "execution_count": 5,
     "metadata": {},
     "output_type": "execute_result"
    },
    {
     "data": {
      "image/png": "[encoded data removed]",
      "text/plain": [
       "<Figure size 500x500 with 1 Axes>"
      ]
     },
     "metadata": {},
     "output_type": "display_data"
    }
   ],
   "source": [
    "## Dataframe Fornecedor\n",
    "\n",
    "fornecedor_1 = df[df['fornecedor']==1]\n",
    "sns.displot(x = fornecedor_1['diametro'])"
   ]
  }
 ],
 "metadata": {
  "kernelspec": {
   "display_name": "base",
   "language": "python",
   "name": "python3"
  },
  "language_info": {
   "codemirror_mode": {
    "name": "ipython",
    "version": 3
   },
   "file_extension": ".py",
   "mimetype": "text/x-python",
   "name": "python",
   "nbconvert_exporter": "python",
   "pygments_lexer": "ipython3",
   "version": "3.10.9"
  },
  "orig_nbformat": 4
 },
 "nbformat": 4,
 "nbformat_minor": 2
}
